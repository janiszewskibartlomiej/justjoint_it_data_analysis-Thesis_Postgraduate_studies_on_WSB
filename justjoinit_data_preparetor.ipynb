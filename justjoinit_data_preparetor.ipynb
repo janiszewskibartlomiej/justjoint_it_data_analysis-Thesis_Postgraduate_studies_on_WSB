{
 "cells": [
  {
   "cell_type": "markdown",
   "metadata": {
    "pycharm": {
     "name": "#%% md\n"
    }
   },
   "source": [
    "### Data analysis of Justjoint.it"
   ]
  },
  {
   "cell_type": "code",
   "execution_count": 1,
   "metadata": {
    "pycharm": {
     "name": "#%%\n"
    }
   },
   "outputs": [],
   "source": [
    "import pandas as pd\n",
    "import numpy as np\n",
    "import matplotlib.pyplot as plt"
   ]
  },
  {
   "cell_type": "code",
   "execution_count": 2,
   "metadata": {
    "pycharm": {
     "name": "#%%\n"
    }
   },
   "outputs": [],
   "source": [
    "pd.set_option('display.max_columns', 30)\n",
    "pd.set_option('display.width', 900)"
   ]
  },
  {
   "cell_type": "code",
   "execution_count": 3,
   "metadata": {
    "pycharm": {
     "name": "#%%\n"
    }
   },
   "outputs": [],
   "source": [
    "file_path = \"data/data_just_join_it_all_data_08_2021.csv\"\n",
    "df = pd.read_csv(file_path)"
   ]
  },
  {
   "cell_type": "code",
   "execution_count": 139,
   "metadata": {},
   "outputs": [
    {
     "name": "stdout",
     "output_type": "stream",
     "text": [
      "           Group Seniority                          Position   Location           Salary_b2b          Salary_permanent                 Obligatory_skills                   Optional_skills    technology_name technology_optional_name\n",
      "2     Javascript    Senior  Senior Vue.js Frontend Developer   Warszawa  22 500 - 27 000 PLN  No permanent information            {'Vue.Js': 'Advanced'}       {'Reactjs': 'Nice To Have'}             Vue.Js                  Reactjs\n",
      "2     Javascript    Senior  Senior Vue.js Frontend Developer   Warszawa  22 500 - 27 000 PLN  No permanent information            {'Vue.Js': 'Advanced'}            {'Go': 'Nice To Have'}             Vue.Js                       Go\n",
      "2     Javascript    Senior  Senior Vue.js Frontend Developer   Warszawa  22 500 - 27 000 PLN  No permanent information            {'Vue.Js': 'Advanced'}         {'Agile': 'Nice To Have'}             Vue.Js                    Agile\n",
      "2     Javascript    Senior  Senior Vue.js Frontend Developer   Warszawa  22 500 - 27 000 PLN  No permanent information            {'Vue.Js': 'Advanced'}   {'Open Source': 'Nice To Have'}             Vue.Js              Open Source\n",
      "2     Javascript    Senior  Senior Vue.js Frontend Developer   Warszawa  22 500 - 27 000 PLN  No permanent information        {'Javascript': 'Advanced'}       {'Reactjs': 'Nice To Have'}         Javascript                  Reactjs\n",
      "...          ...       ...                               ...        ...                  ...                       ...                               ...                               ...                ...                      ...\n",
      "5503       Other    Junior              Junior ETL Developer       Łódź   Undisclosed Salary  No permanent information   {'Business Analysis': 'Junior'}         {'Maven': 'Nice To Have'}  Business Analysis                    Maven\n",
      "5503       Other    Junior              Junior ETL Developer       Łódź   Undisclosed Salary  No permanent information   {'Business Analysis': 'Junior'}          {'Jira': 'Nice To Have'}  Business Analysis                     Jira\n",
      "5505       Other    Junior              Blockchain Developer   Warszawa    5 000 - 9 000 PLN         5 000 - 9 000 PLN          {'Blockchain': 'Junior'}       {'Layer 2': 'Nice To Have'}         Blockchain                  Layer 2\n",
      "5505       Other    Junior              Blockchain Developer   Warszawa    5 000 - 9 000 PLN         5 000 - 9 000 PLN          {'Blockchain': 'Junior'}           {'Evm': 'Nice To Have'}         Blockchain                      Evm\n",
      "5505       Other    Junior              Blockchain Developer   Warszawa    5 000 - 9 000 PLN         5 000 - 9 000 PLN          {'Blockchain': 'Junior'}      {'Solidity': 'Nice To Have'}         Blockchain                 Solidity\n",
      "\n",
      "[21107 rows x 10 columns]\n"
     ]
    }
   ],
   "source": [
    "print(df)"
   ]
  },
  {
   "cell_type": "code",
   "execution_count": 4,
   "metadata": {},
   "outputs": [
    {
     "name": "stdout",
     "output_type": "stream",
     "text": [
      "0       [{'Python': 'advanced'}, {'MS SQL': 'advanced'...\n",
      "1       [{'TypeScript': 'master'}, {'React': 'master'}...\n",
      "2       [{'Vue.js': 'advanced'}, {'JavaScript': 'advan...\n",
      "3       [{'English': 'regular'}, {'TypeScript': 'regul...\n",
      "4       [{'C#': 'advanced'}, {'Vue.js': 'advanced'}, {...\n",
      "                              ...                        \n",
      "5501    [{'English': 'advanced'}, {'CMS (Content Manag...\n",
      "5502                           [{'Blockchain': 'junior'}]\n",
      "5503    [{'ETL': 'junior'}, {'Microsoft SQL Server / S...\n",
      "5504    [{'SQL': 'regular'}, {'R': 'junior'}, {'Matlab...\n",
      "5505                           [{'Blockchain': 'junior'}]\n",
      "Name: Obligatory_skills, Length: 5506, dtype: object\n"
     ]
    }
   ],
   "source": [
    "print(df['Obligatory_skills'])"
   ]
  },
  {
   "cell_type": "code",
   "execution_count": 5,
   "metadata": {
    "pycharm": {
     "name": "#%%\n"
    }
   },
   "outputs": [],
   "source": [
    "df['Obligatory_skills'] = df['Obligatory_skills'].apply(lambda row: row[1:-1].title().split(','))"
   ]
  },
  {
   "cell_type": "code",
   "execution_count": 6,
   "metadata": {},
   "outputs": [
    {
     "name": "stdout",
     "output_type": "stream",
     "text": [
      "0       [{'Python': 'Advanced'},  {'Ms Sql': 'Advanced...\n",
      "1       [{'Typescript': 'Master'},  {'React': 'Master'...\n",
      "2       [{'Vue.Js': 'Advanced'},  {'Javascript': 'Adva...\n",
      "3       [{'English': 'Regular'},  {'Typescript': 'Regu...\n",
      "4       [{'C#': 'Advanced'},  {'Vue.Js': 'Advanced'}, ...\n",
      "                              ...                        \n",
      "5501    [{'English': 'Advanced'},  {'Cms (Content Mana...\n",
      "5502                           [{'Blockchain': 'Junior'}]\n",
      "5503    [{'Etl': 'Junior'},  {'Microsoft Sql Server / ...\n",
      "5504    [{'Sql': 'Regular'},  {'R': 'Junior'},  {'Matl...\n",
      "5505                           [{'Blockchain': 'Junior'}]\n",
      "Name: Obligatory_skills, Length: 5506, dtype: object\n"
     ]
    }
   ],
   "source": [
    "print(df['Obligatory_skills'])"
   ]
  },
  {
   "cell_type": "code",
   "execution_count": 7,
   "metadata": {},
   "outputs": [],
   "source": [
    "df = df.explode('Obligatory_skills')"
   ]
  },
  {
   "cell_type": "code",
   "execution_count": 8,
   "metadata": {},
   "outputs": [
    {
     "name": "stdout",
     "output_type": "stream",
     "text": [
      "0                 {'Python': 'Advanced'}\n",
      "0                 {'Ms Sql': 'Advanced'}\n",
      "0           {'Azure Devops': 'Advanced'}\n",
      "1               {'Typescript': 'Master'}\n",
      "1                    {'React': 'Master'}\n",
      "                      ...               \n",
      "5503     {'Business Analysis': 'Junior'}\n",
      "5504                  {'Sql': 'Regular'}\n",
      "5504                     {'R': 'Junior'}\n",
      "5504                {'Matlab': 'Junior'}\n",
      "5505            {'Blockchain': 'Junior'}\n",
      "Name: Obligatory_skills, Length: 26322, dtype: object\n"
     ]
    }
   ],
   "source": [
    "print(df['Obligatory_skills'])"
   ]
  },
  {
   "cell_type": "code",
   "execution_count": 9,
   "metadata": {},
   "outputs": [],
   "source": [
    "df = df.replace('', np.nan)\n",
    "df = df.dropna(subset=['Obligatory_skills', 'Optional_skills'])"
   ]
  },
  {
   "cell_type": "code",
   "execution_count": 10,
   "metadata": {},
   "outputs": [
    {
     "name": "stdout",
     "output_type": "stream",
     "text": [
      "2                                  {'Vue.Js': 'Advanced'}\n",
      "2                              {'Javascript': 'Advanced'}\n",
      "2                                      {'Css': 'Regular'}\n",
      "2                                     {'Html': 'Regular'}\n",
      "3                                  {'English': 'Regular'}\n",
      "                              ...                        \n",
      "5502                             {'Blockchain': 'Junior'}\n",
      "5503                                    {'Etl': 'Junior'}\n",
      "5503     {'Microsoft Sql Server / Sql / Relational Dat...\n",
      "5503                      {'Business Analysis': 'Junior'}\n",
      "5505                             {'Blockchain': 'Junior'}\n",
      "Name: Obligatory_skills, Length: 9646, dtype: object\n"
     ]
    }
   ],
   "source": [
    "print(df['Obligatory_skills'])"
   ]
  },
  {
   "cell_type": "code",
   "execution_count": 11,
   "metadata": {
    "pycharm": {
     "name": "#%%\n"
    }
   },
   "outputs": [],
   "source": [
    "df['technology_name'] = df['Obligatory_skills'].str.extract(\n",
    "    \"{\\'(.*)\\':\")"
   ]
  },
  {
   "cell_type": "code",
   "execution_count": 12,
   "metadata": {
    "pycharm": {
     "name": "#%%\n"
    }
   },
   "outputs": [
    {
     "name": "stdout",
     "output_type": "stream",
     "text": [
      "2                                  {'Vue.Js': 'Advanced'}\n",
      "2                              {'Javascript': 'Advanced'}\n",
      "2                                      {'Css': 'Regular'}\n",
      "2                                     {'Html': 'Regular'}\n",
      "3                                  {'English': 'Regular'}\n",
      "                              ...                        \n",
      "5502                             {'Blockchain': 'Junior'}\n",
      "5503                                    {'Etl': 'Junior'}\n",
      "5503     {'Microsoft Sql Server / Sql / Relational Dat...\n",
      "5503                      {'Business Analysis': 'Junior'}\n",
      "5505                             {'Blockchain': 'Junior'}\n",
      "Name: Obligatory_skills, Length: 9646, dtype: object\n"
     ]
    }
   ],
   "source": [
    "print(df['Obligatory_skills'])"
   ]
  },
  {
   "cell_type": "code",
   "execution_count": 13,
   "metadata": {},
   "outputs": [
    {
     "name": "stdout",
     "output_type": "stream",
     "text": [
      "2       [{'ReactJS': 'nice to have'}, {'Go': 'nice to ...\n",
      "2       [{'ReactJS': 'nice to have'}, {'Go': 'nice to ...\n",
      "2       [{'ReactJS': 'nice to have'}, {'Go': 'nice to ...\n",
      "2       [{'ReactJS': 'nice to have'}, {'Go': 'nice to ...\n",
      "3                           [{'Node.js': 'nice to have'}]\n",
      "                              ...                        \n",
      "5502    [{'layer 2': 'nice to have'}, {'EVM': 'nice to...\n",
      "5503    [{'Banking experience': 'nice to have'}, {'uc4...\n",
      "5503    [{'Banking experience': 'nice to have'}, {'uc4...\n",
      "5503    [{'Banking experience': 'nice to have'}, {'uc4...\n",
      "5505    [{'layer 2': 'nice to have'}, {'EVM': 'nice to...\n",
      "Name: Optional_skills, Length: 9646, dtype: object\n"
     ]
    }
   ],
   "source": [
    "print(df['Optional_skills'])"
   ]
  },
  {
   "cell_type": "code",
   "execution_count": 14,
   "metadata": {},
   "outputs": [
    {
     "name": "stdout",
     "output_type": "stream",
     "text": [
      "2                                                  Vue.Js\n",
      "2                                              Javascript\n",
      "2                                                     Css\n",
      "2                                                    Html\n",
      "3                                                 English\n",
      "                              ...                        \n",
      "5502                                           Blockchain\n",
      "5503                                                  Etl\n",
      "5503    Microsoft Sql Server / Sql / Relational Databases\n",
      "5503                                    Business Analysis\n",
      "5505                                           Blockchain\n",
      "Name: technology_name, Length: 9646, dtype: object\n"
     ]
    }
   ],
   "source": [
    "print(df['technology_name'])"
   ]
  },
  {
   "cell_type": "code",
   "execution_count": 15,
   "metadata": {},
   "outputs": [],
   "source": [
    "df['Optional_skills'] = df['Optional_skills'].apply(lambda row: row[1:-1].title().split(','))"
   ]
  },
  {
   "cell_type": "code",
   "execution_count": 16,
   "metadata": {},
   "outputs": [],
   "source": [
    "df = df.explode('Optional_skills')"
   ]
  },
  {
   "cell_type": "code",
   "execution_count": 17,
   "metadata": {},
   "outputs": [
    {
     "name": "stdout",
     "output_type": "stream",
     "text": [
      "2            {'Reactjs': 'Nice To Have'}\n",
      "2                 {'Go': 'Nice To Have'}\n",
      "2              {'Agile': 'Nice To Have'}\n",
      "2        {'Open Source': 'Nice To Have'}\n",
      "2            {'Reactjs': 'Nice To Have'}\n",
      "                      ...               \n",
      "5503           {'Maven': 'Nice To Have'}\n",
      "5503            {'Jira': 'Nice To Have'}\n",
      "5505         {'Layer 2': 'Nice To Have'}\n",
      "5505             {'Evm': 'Nice To Have'}\n",
      "5505        {'Solidity': 'Nice To Have'}\n",
      "Name: Optional_skills, Length: 21107, dtype: object\n"
     ]
    }
   ],
   "source": [
    "print(df['Optional_skills'])"
   ]
  },
  {
   "cell_type": "code",
   "execution_count": 18,
   "metadata": {},
   "outputs": [],
   "source": [
    "df['technology_optional_name'] = df['Optional_skills'].str.extract(\n",
    "    \"{\\'(.*)\\':\")"
   ]
  },
  {
   "cell_type": "code",
   "execution_count": 19,
   "metadata": {},
   "outputs": [
    {
     "name": "stdout",
     "output_type": "stream",
     "text": [
      "2           Reactjs\n",
      "2                Go\n",
      "2             Agile\n",
      "2       Open Source\n",
      "2           Reactjs\n",
      "           ...     \n",
      "5503          Maven\n",
      "5503           Jira\n",
      "5505        Layer 2\n",
      "5505            Evm\n",
      "5505       Solidity\n",
      "Name: technology_optional_name, Length: 21107, dtype: object\n"
     ]
    }
   ],
   "source": [
    "print(df['technology_optional_name'])"
   ]
  },
  {
   "cell_type": "code",
   "execution_count": 20,
   "metadata": {},
   "outputs": [
    {
     "data": {
      "text/plain": [
       "21107"
      ]
     },
     "execution_count": 20,
     "metadata": {},
     "output_type": "execute_result"
    }
   ],
   "source": [
    "len(df['technology_name'] == 'Python')"
   ]
  },
  {
   "cell_type": "code",
   "execution_count": 21,
   "metadata": {},
   "outputs": [
    {
     "data": {
      "text/plain": [
       "count      21097\n",
       "size       21107\n",
       "nunique     1210\n",
       "Name: technology_name, dtype: int64"
      ]
     },
     "execution_count": 21,
     "metadata": {},
     "output_type": "execute_result"
    }
   ],
   "source": [
    "df['technology_name'].sort_values().agg(['count', 'size', 'nunique'])"
   ]
  },
  {
   "cell_type": "code",
   "execution_count": 22,
   "metadata": {},
   "outputs": [
    {
     "data": {
      "text/html": [
       "<div>\n",
       "<style scoped>\n",
       "    .dataframe tbody tr th:only-of-type {\n",
       "        vertical-align: middle;\n",
       "    }\n",
       "\n",
       "    .dataframe tbody tr th {\n",
       "        vertical-align: top;\n",
       "    }\n",
       "\n",
       "    .dataframe thead th {\n",
       "        text-align: right;\n",
       "    }\n",
       "</style>\n",
       "<table border=\"1\" class=\"dataframe\">\n",
       "  <thead>\n",
       "    <tr style=\"text-align: right;\">\n",
       "      <th></th>\n",
       "      <th></th>\n",
       "      <th>Group</th>\n",
       "      <th>Seniority</th>\n",
       "      <th>Position</th>\n",
       "      <th>Location</th>\n",
       "      <th>Salary_b2b</th>\n",
       "      <th>Salary_permanent</th>\n",
       "      <th>Obligatory_skills</th>\n",
       "      <th>Optional_skills</th>\n",
       "      <th>technology_optional_name</th>\n",
       "    </tr>\n",
       "    <tr>\n",
       "      <th>technology_name</th>\n",
       "      <th></th>\n",
       "      <th></th>\n",
       "      <th></th>\n",
       "      <th></th>\n",
       "      <th></th>\n",
       "      <th></th>\n",
       "      <th></th>\n",
       "      <th></th>\n",
       "      <th></th>\n",
       "      <th></th>\n",
       "    </tr>\n",
       "  </thead>\n",
       "  <tbody>\n",
       "    <tr>\n",
       "      <th rowspan=\"3\" valign=\"top\">.Net</th>\n",
       "      <th>count</th>\n",
       "      <td>156</td>\n",
       "      <td>156</td>\n",
       "      <td>156</td>\n",
       "      <td>156</td>\n",
       "      <td>156</td>\n",
       "      <td>156</td>\n",
       "      <td>156</td>\n",
       "      <td>156</td>\n",
       "      <td>156</td>\n",
       "    </tr>\n",
       "    <tr>\n",
       "      <th>size</th>\n",
       "      <td>156</td>\n",
       "      <td>156</td>\n",
       "      <td>156</td>\n",
       "      <td>156</td>\n",
       "      <td>156</td>\n",
       "      <td>156</td>\n",
       "      <td>156</td>\n",
       "      <td>156</td>\n",
       "      <td>156</td>\n",
       "    </tr>\n",
       "    <tr>\n",
       "      <th>nunique</th>\n",
       "      <td>8</td>\n",
       "      <td>3</td>\n",
       "      <td>42</td>\n",
       "      <td>15</td>\n",
       "      <td>37</td>\n",
       "      <td>6</td>\n",
       "      <td>7</td>\n",
       "      <td>89</td>\n",
       "      <td>74</td>\n",
       "    </tr>\n",
       "    <tr>\n",
       "      <th rowspan=\"2\" valign=\"top\">.Net 4.5</th>\n",
       "      <th>count</th>\n",
       "      <td>2</td>\n",
       "      <td>2</td>\n",
       "      <td>2</td>\n",
       "      <td>2</td>\n",
       "      <td>2</td>\n",
       "      <td>2</td>\n",
       "      <td>2</td>\n",
       "      <td>2</td>\n",
       "      <td>2</td>\n",
       "    </tr>\n",
       "    <tr>\n",
       "      <th>size</th>\n",
       "      <td>2</td>\n",
       "      <td>2</td>\n",
       "      <td>2</td>\n",
       "      <td>2</td>\n",
       "      <td>2</td>\n",
       "      <td>2</td>\n",
       "      <td>2</td>\n",
       "      <td>2</td>\n",
       "      <td>2</td>\n",
       "    </tr>\n",
       "    <tr>\n",
       "      <th>...</th>\n",
       "      <th>...</th>\n",
       "      <td>...</td>\n",
       "      <td>...</td>\n",
       "      <td>...</td>\n",
       "      <td>...</td>\n",
       "      <td>...</td>\n",
       "      <td>...</td>\n",
       "      <td>...</td>\n",
       "      <td>...</td>\n",
       "      <td>...</td>\n",
       "    </tr>\n",
       "    <tr>\n",
       "      <th rowspan=\"2\" valign=\"top\">• Symfony</th>\n",
       "      <th>size</th>\n",
       "      <td>5</td>\n",
       "      <td>5</td>\n",
       "      <td>5</td>\n",
       "      <td>5</td>\n",
       "      <td>5</td>\n",
       "      <td>5</td>\n",
       "      <td>5</td>\n",
       "      <td>5</td>\n",
       "      <td>5</td>\n",
       "    </tr>\n",
       "    <tr>\n",
       "      <th>nunique</th>\n",
       "      <td>1</td>\n",
       "      <td>1</td>\n",
       "      <td>1</td>\n",
       "      <td>1</td>\n",
       "      <td>1</td>\n",
       "      <td>1</td>\n",
       "      <td>1</td>\n",
       "      <td>5</td>\n",
       "      <td>5</td>\n",
       "    </tr>\n",
       "    <tr>\n",
       "      <th rowspan=\"3\" valign=\"top\">• Zend Framework</th>\n",
       "      <th>count</th>\n",
       "      <td>5</td>\n",
       "      <td>5</td>\n",
       "      <td>5</td>\n",
       "      <td>5</td>\n",
       "      <td>5</td>\n",
       "      <td>5</td>\n",
       "      <td>5</td>\n",
       "      <td>5</td>\n",
       "      <td>5</td>\n",
       "    </tr>\n",
       "    <tr>\n",
       "      <th>size</th>\n",
       "      <td>5</td>\n",
       "      <td>5</td>\n",
       "      <td>5</td>\n",
       "      <td>5</td>\n",
       "      <td>5</td>\n",
       "      <td>5</td>\n",
       "      <td>5</td>\n",
       "      <td>5</td>\n",
       "      <td>5</td>\n",
       "    </tr>\n",
       "    <tr>\n",
       "      <th>nunique</th>\n",
       "      <td>1</td>\n",
       "      <td>1</td>\n",
       "      <td>1</td>\n",
       "      <td>1</td>\n",
       "      <td>1</td>\n",
       "      <td>1</td>\n",
       "      <td>1</td>\n",
       "      <td>5</td>\n",
       "      <td>5</td>\n",
       "    </tr>\n",
       "  </tbody>\n",
       "</table>\n",
       "<p>3630 rows × 9 columns</p>\n",
       "</div>"
      ],
      "text/plain": [
       "                          Group  Seniority  Position  Location  Salary_b2b  Salary_permanent  Obligatory_skills  Optional_skills  technology_optional_name\n",
       "technology_name                                                                                                                                           \n",
       ".Net             count      156        156       156       156         156               156                156              156                       156\n",
       "                 size       156        156       156       156         156               156                156              156                       156\n",
       "                 nunique      8          3        42        15          37                 6                  7               89                        74\n",
       ".Net 4.5         count        2          2         2         2           2                 2                  2                2                         2\n",
       "                 size         2          2         2         2           2                 2                  2                2                         2\n",
       "...                         ...        ...       ...       ...         ...               ...                ...              ...                       ...\n",
       "• Symfony        size         5          5         5         5           5                 5                  5                5                         5\n",
       "                 nunique      1          1         1         1           1                 1                  1                5                         5\n",
       "• Zend Framework count        5          5         5         5           5                 5                  5                5                         5\n",
       "                 size         5          5         5         5           5                 5                  5                5                         5\n",
       "                 nunique      1          1         1         1           1                 1                  1                5                         5\n",
       "\n",
       "[3630 rows x 9 columns]"
      ]
     },
     "execution_count": 22,
     "metadata": {},
     "output_type": "execute_result"
    }
   ],
   "source": [
    "df.groupby('technology_name').agg(['count', 'size', 'nunique']).stack()"
   ]
  },
  {
   "cell_type": "code",
   "execution_count": 44,
   "metadata": {},
   "outputs": [],
   "source": [
    "df_obligatory_skills = df.groupby('technology_name').count().reset_index().sort_values('Obligatory_skills',ascending=False).reset_index()[['technology_name', 'Obligatory_skills']]"
   ]
  },
  {
   "cell_type": "code",
   "execution_count": 45,
   "metadata": {},
   "outputs": [
    {
     "data": {
      "text/html": [
       "<div>\n",
       "<style scoped>\n",
       "    .dataframe tbody tr th:only-of-type {\n",
       "        vertical-align: middle;\n",
       "    }\n",
       "\n",
       "    .dataframe tbody tr th {\n",
       "        vertical-align: top;\n",
       "    }\n",
       "\n",
       "    .dataframe thead th {\n",
       "        text-align: right;\n",
       "    }\n",
       "</style>\n",
       "<table border=\"1\" class=\"dataframe\">\n",
       "  <thead>\n",
       "    <tr style=\"text-align: right;\">\n",
       "      <th></th>\n",
       "      <th>technology_name</th>\n",
       "      <th>Obligatory_skills</th>\n",
       "    </tr>\n",
       "  </thead>\n",
       "  <tbody>\n",
       "    <tr>\n",
       "      <th>0</th>\n",
       "      <td>Git</td>\n",
       "      <td>903</td>\n",
       "    </tr>\n",
       "    <tr>\n",
       "      <th>1</th>\n",
       "      <td>Javascript</td>\n",
       "      <td>886</td>\n",
       "    </tr>\n",
       "    <tr>\n",
       "      <th>2</th>\n",
       "      <td>Sql</td>\n",
       "      <td>749</td>\n",
       "    </tr>\n",
       "    <tr>\n",
       "      <th>3</th>\n",
       "      <td>English</td>\n",
       "      <td>654</td>\n",
       "    </tr>\n",
       "    <tr>\n",
       "      <th>4</th>\n",
       "      <td>Java</td>\n",
       "      <td>640</td>\n",
       "    </tr>\n",
       "    <tr>\n",
       "      <th>5</th>\n",
       "      <td>Python</td>\n",
       "      <td>544</td>\n",
       "    </tr>\n",
       "    <tr>\n",
       "      <th>6</th>\n",
       "      <td>Docker</td>\n",
       "      <td>457</td>\n",
       "    </tr>\n",
       "    <tr>\n",
       "      <th>7</th>\n",
       "      <td>Linux</td>\n",
       "      <td>388</td>\n",
       "    </tr>\n",
       "    <tr>\n",
       "      <th>8</th>\n",
       "      <td>Typescript</td>\n",
       "      <td>375</td>\n",
       "    </tr>\n",
       "    <tr>\n",
       "      <th>9</th>\n",
       "      <td>Php</td>\n",
       "      <td>342</td>\n",
       "    </tr>\n",
       "    <tr>\n",
       "      <th>10</th>\n",
       "      <td>Mysql</td>\n",
       "      <td>297</td>\n",
       "    </tr>\n",
       "    <tr>\n",
       "      <th>11</th>\n",
       "      <td>React</td>\n",
       "      <td>282</td>\n",
       "    </tr>\n",
       "    <tr>\n",
       "      <th>12</th>\n",
       "      <td>Css</td>\n",
       "      <td>281</td>\n",
       "    </tr>\n",
       "    <tr>\n",
       "      <th>13</th>\n",
       "      <td>Rest Api</td>\n",
       "      <td>265</td>\n",
       "    </tr>\n",
       "    <tr>\n",
       "      <th>14</th>\n",
       "      <td>Aws</td>\n",
       "      <td>247</td>\n",
       "    </tr>\n",
       "  </tbody>\n",
       "</table>\n",
       "</div>"
      ],
      "text/plain": [
       "   technology_name  Obligatory_skills\n",
       "0              Git                903\n",
       "1       Javascript                886\n",
       "2              Sql                749\n",
       "3          English                654\n",
       "4             Java                640\n",
       "5           Python                544\n",
       "6           Docker                457\n",
       "7            Linux                388\n",
       "8       Typescript                375\n",
       "9              Php                342\n",
       "10           Mysql                297\n",
       "11           React                282\n",
       "12             Css                281\n",
       "13        Rest Api                265\n",
       "14             Aws                247"
      ]
     },
     "execution_count": 45,
     "metadata": {},
     "output_type": "execute_result"
    }
   ],
   "source": [
    "df_obligatory_skills.head(15)"
   ]
  },
  {
   "cell_type": "code",
   "execution_count": 57,
   "metadata": {},
   "outputs": [
    {
     "name": "stdout",
     "output_type": "stream",
     "text": [
      "   technology_name  Obligatory_skills\n",
      "0              Git                903\n",
      "1       Javascript                886\n",
      "2              Sql                749\n",
      "3          English                654\n",
      "4             Java                640\n",
      "5           Python                544\n",
      "6           Docker                457\n",
      "7            Linux                388\n",
      "8       Typescript                375\n",
      "9              Php                342\n",
      "10           Mysql                297\n",
      "11           React                282\n",
      "12             Css                281\n",
      "13        Rest Api                265\n",
      "14             Aws                247\n",
      "15            Html                243\n",
      "16          Spring                240\n",
      "17         Node.Js                235\n",
      "18            Rest                228\n",
      "19      Postgresql                227\n"
     ]
    }
   ],
   "source": [
    "df_obligatory_skills_top_20 = df_obligatory_skills.head(20)"
   ]
  },
  {
   "cell_type": "code",
   "execution_count": 77,
   "metadata": {},
   "outputs": [
    {
     "data": {
      "text/plain": [
       "<AxesSubplot:title={'center':'Most wanded obligatory skills'}, xlabel='technology_name'>"
      ]
     },
     "execution_count": 77,
     "metadata": {},
     "output_type": "execute_result"
    },
    {
     "data": {
      "image/png": "[encoded data removed]",
      "text/plain": [
       "<Figure size 1800x1080 with 1 Axes>"
      ]
     },
     "metadata": {
      "needs_background": "light"
     },
     "output_type": "display_data"
    }
   ],
   "source": [
    "df_obligatory_skills_top_20.plot(x='technology_name', y='Obligatory_skills', kind='bar', fontsize=16, figsize=(25,15), title='Most wanded obligatory skills')"
   ]
  },
  {
   "cell_type": "code",
   "execution_count": 27,
   "metadata": {},
   "outputs": [],
   "source": [
    "df_optional_skills = df.groupby('technology_optional_name').count().reset_index().sort_values('Optional_skills',ascending=False).reset_index()[['technology_optional_name', 'Optional_skills']]"
   ]
  },
  {
   "cell_type": "code",
   "execution_count": 28,
   "metadata": {},
   "outputs": [
    {
     "data": {
      "text/html": [
       "<div>\n",
       "<style scoped>\n",
       "    .dataframe tbody tr th:only-of-type {\n",
       "        vertical-align: middle;\n",
       "    }\n",
       "\n",
       "    .dataframe tbody tr th {\n",
       "        vertical-align: top;\n",
       "    }\n",
       "\n",
       "    .dataframe thead th {\n",
       "        text-align: right;\n",
       "    }\n",
       "</style>\n",
       "<table border=\"1\" class=\"dataframe\">\n",
       "  <thead>\n",
       "    <tr style=\"text-align: right;\">\n",
       "      <th></th>\n",
       "      <th>technology_optional_name</th>\n",
       "      <th>Optional_skills</th>\n",
       "    </tr>\n",
       "  </thead>\n",
       "  <tbody>\n",
       "    <tr>\n",
       "      <th>0</th>\n",
       "      <td>Aws</td>\n",
       "      <td>756</td>\n",
       "    </tr>\n",
       "    <tr>\n",
       "      <th>1</th>\n",
       "      <td>Docker</td>\n",
       "      <td>728</td>\n",
       "    </tr>\n",
       "    <tr>\n",
       "      <th>2</th>\n",
       "      <td>Kubernetes</td>\n",
       "      <td>474</td>\n",
       "    </tr>\n",
       "    <tr>\n",
       "      <th>3</th>\n",
       "      <td>Python</td>\n",
       "      <td>451</td>\n",
       "    </tr>\n",
       "    <tr>\n",
       "      <th>4</th>\n",
       "      <td>Javascript</td>\n",
       "      <td>393</td>\n",
       "    </tr>\n",
       "    <tr>\n",
       "      <th>5</th>\n",
       "      <td>React</td>\n",
       "      <td>376</td>\n",
       "    </tr>\n",
       "    <tr>\n",
       "      <th>6</th>\n",
       "      <td>Java</td>\n",
       "      <td>367</td>\n",
       "    </tr>\n",
       "    <tr>\n",
       "      <th>7</th>\n",
       "      <td>Node.Js</td>\n",
       "      <td>351</td>\n",
       "    </tr>\n",
       "    <tr>\n",
       "      <th>8</th>\n",
       "      <td>Azure</td>\n",
       "      <td>327</td>\n",
       "    </tr>\n",
       "    <tr>\n",
       "      <th>9</th>\n",
       "      <td>Angular</td>\n",
       "      <td>324</td>\n",
       "    </tr>\n",
       "  </tbody>\n",
       "</table>\n",
       "</div>"
      ],
      "text/plain": [
       "  technology_optional_name  Optional_skills\n",
       "0                      Aws              756\n",
       "1                   Docker              728\n",
       "2               Kubernetes              474\n",
       "3                   Python              451\n",
       "4               Javascript              393\n",
       "5                    React              376\n",
       "6                     Java              367\n",
       "7                  Node.Js              351\n",
       "8                    Azure              327\n",
       "9                  Angular              324"
      ]
     },
     "execution_count": 28,
     "metadata": {},
     "output_type": "execute_result"
    }
   ],
   "source": [
    "df_optional_skills.head(10)"
   ]
  },
  {
   "cell_type": "code",
   "execution_count": 79,
   "metadata": {},
   "outputs": [],
   "source": [
    "df_optional_skills_top_20 = df_optional_skills.head(20)"
   ]
  },
  {
   "cell_type": "code",
   "execution_count": 81,
   "metadata": {},
   "outputs": [
    {
     "data": {
      "text/plain": [
       "<AxesSubplot:title={'center':'Most wanded optional skills'}, xlabel='technology_optional_name'>"
      ]
     },
     "execution_count": 81,
     "metadata": {},
     "output_type": "execute_result"
    },
    {
     "data": {
      "image/png": "[encoded data removed]",
      "text/plain": [
       "<Figure size 1800x1080 with 1 Axes>"
      ]
     },
     "metadata": {
      "needs_background": "light"
     },
     "output_type": "display_data"
    }
   ],
   "source": [
    "df_optional_skills_top_20.plot(x='technology_optional_name', y='Optional_skills', kind='bar', fontsize=16, figsize=(25,15), title='Most wanded optional skills')"
   ]
  },
  {
   "cell_type": "code",
   "execution_count": 29,
   "metadata": {},
   "outputs": [
    {
     "data": {
      "text/html": [
       "<div>\n",
       "<style scoped>\n",
       "    .dataframe tbody tr th:only-of-type {\n",
       "        vertical-align: middle;\n",
       "    }\n",
       "\n",
       "    .dataframe tbody tr th {\n",
       "        vertical-align: top;\n",
       "    }\n",
       "\n",
       "    .dataframe thead tr th {\n",
       "        text-align: left;\n",
       "    }\n",
       "\n",
       "    .dataframe thead tr:last-of-type th {\n",
       "        text-align: right;\n",
       "    }\n",
       "</style>\n",
       "<table border=\"1\" class=\"dataframe\">\n",
       "  <thead>\n",
       "    <tr>\n",
       "      <th></th>\n",
       "      <th>Group</th>\n",
       "      <th>Seniority</th>\n",
       "      <th>Position</th>\n",
       "      <th>Location</th>\n",
       "      <th>Salary_b2b</th>\n",
       "      <th>Salary_permanent</th>\n",
       "      <th>Obligatory_skills</th>\n",
       "      <th>Optional_skills</th>\n",
       "      <th>technology_optional_name</th>\n",
       "    </tr>\n",
       "    <tr>\n",
       "      <th></th>\n",
       "      <th>nunique</th>\n",
       "      <th>nunique</th>\n",
       "      <th>nunique</th>\n",
       "      <th>nunique</th>\n",
       "      <th>nunique</th>\n",
       "      <th>nunique</th>\n",
       "      <th>nunique</th>\n",
       "      <th>nunique</th>\n",
       "      <th>nunique</th>\n",
       "    </tr>\n",
       "    <tr>\n",
       "      <th>technology_name</th>\n",
       "      <th></th>\n",
       "      <th></th>\n",
       "      <th></th>\n",
       "      <th></th>\n",
       "      <th></th>\n",
       "      <th></th>\n",
       "      <th></th>\n",
       "      <th></th>\n",
       "      <th></th>\n",
       "    </tr>\n",
       "  </thead>\n",
       "  <tbody>\n",
       "    <tr>\n",
       "      <th>.Net</th>\n",
       "      <td>8</td>\n",
       "      <td>3</td>\n",
       "      <td>42</td>\n",
       "      <td>15</td>\n",
       "      <td>37</td>\n",
       "      <td>6</td>\n",
       "      <td>7</td>\n",
       "      <td>89</td>\n",
       "      <td>74</td>\n",
       "    </tr>\n",
       "    <tr>\n",
       "      <th>.Net 4.5</th>\n",
       "      <td>1</td>\n",
       "      <td>1</td>\n",
       "      <td>1</td>\n",
       "      <td>1</td>\n",
       "      <td>1</td>\n",
       "      <td>1</td>\n",
       "      <td>1</td>\n",
       "      <td>2</td>\n",
       "      <td>2</td>\n",
       "    </tr>\n",
       "    <tr>\n",
       "      <th>.Net 5.0</th>\n",
       "      <td>1</td>\n",
       "      <td>1</td>\n",
       "      <td>1</td>\n",
       "      <td>1</td>\n",
       "      <td>1</td>\n",
       "      <td>1</td>\n",
       "      <td>1</td>\n",
       "      <td>4</td>\n",
       "      <td>4</td>\n",
       "    </tr>\n",
       "    <tr>\n",
       "      <th>.Net C#</th>\n",
       "      <td>4</td>\n",
       "      <td>3</td>\n",
       "      <td>20</td>\n",
       "      <td>5</td>\n",
       "      <td>17</td>\n",
       "      <td>4</td>\n",
       "      <td>6</td>\n",
       "      <td>49</td>\n",
       "      <td>44</td>\n",
       "    </tr>\n",
       "    <tr>\n",
       "      <th>.Net Core</th>\n",
       "      <td>4</td>\n",
       "      <td>3</td>\n",
       "      <td>37</td>\n",
       "      <td>12</td>\n",
       "      <td>36</td>\n",
       "      <td>10</td>\n",
       "      <td>6</td>\n",
       "      <td>65</td>\n",
       "      <td>57</td>\n",
       "    </tr>\n",
       "    <tr>\n",
       "      <th>...</th>\n",
       "      <td>...</td>\n",
       "      <td>...</td>\n",
       "      <td>...</td>\n",
       "      <td>...</td>\n",
       "      <td>...</td>\n",
       "      <td>...</td>\n",
       "      <td>...</td>\n",
       "      <td>...</td>\n",
       "      <td>...</td>\n",
       "    </tr>\n",
       "    <tr>\n",
       "      <th>• Node.Js</th>\n",
       "      <td>1</td>\n",
       "      <td>1</td>\n",
       "      <td>1</td>\n",
       "      <td>1</td>\n",
       "      <td>1</td>\n",
       "      <td>1</td>\n",
       "      <td>1</td>\n",
       "      <td>1</td>\n",
       "      <td>1</td>\n",
       "    </tr>\n",
       "    <tr>\n",
       "      <th>• Php7</th>\n",
       "      <td>1</td>\n",
       "      <td>1</td>\n",
       "      <td>1</td>\n",
       "      <td>1</td>\n",
       "      <td>1</td>\n",
       "      <td>1</td>\n",
       "      <td>1</td>\n",
       "      <td>5</td>\n",
       "      <td>5</td>\n",
       "    </tr>\n",
       "    <tr>\n",
       "      <th>• React.Js</th>\n",
       "      <td>1</td>\n",
       "      <td>1</td>\n",
       "      <td>1</td>\n",
       "      <td>1</td>\n",
       "      <td>1</td>\n",
       "      <td>1</td>\n",
       "      <td>1</td>\n",
       "      <td>1</td>\n",
       "      <td>1</td>\n",
       "    </tr>\n",
       "    <tr>\n",
       "      <th>• Symfony</th>\n",
       "      <td>1</td>\n",
       "      <td>1</td>\n",
       "      <td>1</td>\n",
       "      <td>1</td>\n",
       "      <td>1</td>\n",
       "      <td>1</td>\n",
       "      <td>1</td>\n",
       "      <td>5</td>\n",
       "      <td>5</td>\n",
       "    </tr>\n",
       "    <tr>\n",
       "      <th>• Zend Framework</th>\n",
       "      <td>1</td>\n",
       "      <td>1</td>\n",
       "      <td>1</td>\n",
       "      <td>1</td>\n",
       "      <td>1</td>\n",
       "      <td>1</td>\n",
       "      <td>1</td>\n",
       "      <td>5</td>\n",
       "      <td>5</td>\n",
       "    </tr>\n",
       "  </tbody>\n",
       "</table>\n",
       "<p>1210 rows × 9 columns</p>\n",
       "</div>"
      ],
      "text/plain": [
       "                   Group Seniority Position Location Salary_b2b Salary_permanent Obligatory_skills Optional_skills technology_optional_name\n",
       "                 nunique   nunique  nunique  nunique    nunique          nunique           nunique         nunique                  nunique\n",
       "technology_name                                                                                                                            \n",
       ".Net                   8         3       42       15         37                6                 7              89                       74\n",
       ".Net 4.5               1         1        1        1          1                1                 1               2                        2\n",
       ".Net 5.0               1         1        1        1          1                1                 1               4                        4\n",
       ".Net C#                4         3       20        5         17                4                 6              49                       44\n",
       ".Net Core              4         3       37       12         36               10                 6              65                       57\n",
       "...                  ...       ...      ...      ...        ...              ...               ...             ...                      ...\n",
       "• Node.Js              1         1        1        1          1                1                 1               1                        1\n",
       "• Php7                 1         1        1        1          1                1                 1               5                        5\n",
       "• React.Js             1         1        1        1          1                1                 1               1                        1\n",
       "• Symfony              1         1        1        1          1                1                 1               5                        5\n",
       "• Zend Framework       1         1        1        1          1                1                 1               5                        5\n",
       "\n",
       "[1210 rows x 9 columns]"
      ]
     },
     "execution_count": 29,
     "metadata": {},
     "output_type": "execute_result"
    }
   ],
   "source": [
    "df.groupby('technology_name').agg(['nunique'])"
   ]
  },
  {
   "cell_type": "code",
   "execution_count": 86,
   "metadata": {},
   "outputs": [
    {
     "data": {
      "text/plain": [
       "2       Javascript\n",
       "2       Javascript\n",
       "2       Javascript\n",
       "2       Javascript\n",
       "2       Javascript\n",
       "           ...    \n",
       "5503         Other\n",
       "5503         Other\n",
       "5505         Other\n",
       "5505         Other\n",
       "5505         Other\n",
       "Name: Group, Length: 21107, dtype: object"
      ]
     },
     "execution_count": 86,
     "metadata": {},
     "output_type": "execute_result"
    }
   ],
   "source": [
    "df['Group']"
   ]
  },
  {
   "cell_type": "code",
   "execution_count": 104,
   "metadata": {},
   "outputs": [],
   "source": [
    "df_technology_group = df.groupby('Group').count().sort_values('Seniority',ascending=False)"
   ]
  },
  {
   "cell_type": "code",
   "execution_count": 109,
   "metadata": {},
   "outputs": [
    {
     "data": {
      "text/plain": [
       "<AxesSubplot:title={'center':'Technology Group'}, ylabel='Seniority'>"
      ]
     },
     "execution_count": 109,
     "metadata": {},
     "output_type": "execute_result"
    },
    {
     "data": {
      "image/png": "[encoded data removed]",
      "text/plain": [
       "<Figure size 1800x1080 with 1 Axes>"
      ]
     },
     "metadata": {},
     "output_type": "display_data"
    }
   ],
   "source": [
    "df_technology_group.plot(x='Group', y='Seniority', kind='pie', fontsize=14, figsize=(25,15), title='Technology Group', legend=False)"
   ]
  },
  {
   "cell_type": "code",
   "execution_count": 115,
   "metadata": {},
   "outputs": [
    {
     "data": {
      "text/plain": [
       "2       Senior\n",
       "2       Senior\n",
       "2       Senior\n",
       "2       Senior\n",
       "2       Senior\n",
       "         ...  \n",
       "5503    Junior\n",
       "5503    Junior\n",
       "5505    Junior\n",
       "5505    Junior\n",
       "5505    Junior\n",
       "Name: Seniority, Length: 21107, dtype: object"
      ]
     },
     "execution_count": 115,
     "metadata": {},
     "output_type": "execute_result"
    }
   ],
   "source": [
    "df['Seniority']"
   ]
  },
  {
   "cell_type": "code",
   "execution_count": 124,
   "metadata": {},
   "outputs": [],
   "source": [
    "df_seniority = df.groupby('Seniority').count().sort_values('Position',ascending=False).reset_index()[['Seniority', 'Position']]"
   ]
  },
  {
   "cell_type": "code",
   "execution_count": 125,
   "metadata": {},
   "outputs": [
    {
     "name": "stdout",
     "output_type": "stream",
     "text": [
      "  Seniority  Position\n",
      "0       Mid     11568\n",
      "1    Senior      6794\n",
      "2    Junior      2745\n"
     ]
    }
   ],
   "source": [
    "print(df_seniority)"
   ]
  },
  {
   "cell_type": "code",
   "execution_count": 138,
   "metadata": {},
   "outputs": [
    {
     "data": {
      "text/plain": [
       "<AxesSubplot:title={'center':'Seniority'}, ylabel='Position'>"
      ]
     },
     "execution_count": 138,
     "metadata": {},
     "output_type": "execute_result"
    },
    {
     "data": {
      "image/png": "[encoded data removed]",
      "text/plain": [
       "<Figure size 1800x1080 with 1 Axes>"
      ]
     },
     "metadata": {},
     "output_type": "display_data"
    }
   ],
   "source": [
    "df_seniority.plot(x='Seniority', y='Position', kind='pie', fontsize=14, figsize=(25,15), title='Seniority', legend=False, labels=df_seniority['Seniority'].to_list(), autopct='%1.1f%%')"
   ]
  },
  {
   "cell_type": "code",
   "execution_count": null,
   "metadata": {},
   "outputs": [],
   "source": []
  }
 ],
 "metadata": {
  "kernelspec": {
   "display_name": "Python 3 (ipykernel)",
   "language": "python",
   "name": "python3"
  },
  "language_info": {
   "codemirror_mode": {
    "name": "ipython",
    "version": 3
   },
   "file_extension": ".py",
   "mimetype": "text/x-python",
   "name": "python",
   "nbconvert_exporter": "python",
   "pygments_lexer": "ipython3",
   "version": "3.9.10"
  }
 },
 "nbformat": 4,
 "nbformat_minor": 1
}