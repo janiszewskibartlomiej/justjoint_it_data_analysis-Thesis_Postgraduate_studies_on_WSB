{
 "cells": [
  {
   "cell_type": "markdown",
   "metadata": {
    "pycharm": {
     "name": "#%% md\n"
    }
   },
   "source": [
    "<h1 style=\"text-align: center;\">Data analysis of Justjoint.it</h1>"
   ]
  },
  {
   "cell_type": "markdown",
   "metadata": {},
   "source": [
    "###### Import bibliotek"
   ]
  },
  {
   "cell_type": "code",
   "execution_count": 1,
   "metadata": {
    "pycharm": {
     "name": "#%%\n"
    }
   },
   "outputs": [],
   "source": [
    "import pandas as pd\n",
    "import numpy as np"
   ]
  },
  {
   "cell_type": "markdown",
   "metadata": {},
   "source": [
    "###### Ustawienie wyświetlania danych"
   ]
  },
  {
   "cell_type": "code",
   "execution_count": 2,
   "metadata": {
    "pycharm": {
     "name": "#%%\n"
    }
   },
   "outputs": [],
   "source": [
    "pd.set_option('display.max_columns', 30)\n",
    "pd.set_option('display.width', 900)"
   ]
  },
  {
   "cell_type": "markdown",
   "metadata": {},
   "source": [
    "###### Załadowanie danych, które wczęścniej zostały scrapowane z portalu justjoin.it"
   ]
  },
  {
   "cell_type": "code",
   "execution_count": 3,
   "metadata": {
    "pycharm": {
     "name": "#%%\n"
    }
   },
   "outputs": [],
   "source": [
    "file_path = \"data/data_just_join_it_all_data_08_2021.csv\"\n",
    "df = pd.read_csv(file_path)"
   ]
  },
  {
   "cell_type": "markdown",
   "metadata": {},
   "source": [
    "###### Wyświetlenie/sprawdzenie danych, które zostały załadowane"
   ]
  },
  {
   "cell_type": "code",
   "execution_count": 5,
   "metadata": {},
   "outputs": [
    {
     "data": {
      "text/html": [
       "<div>\n",
       "<style scoped>\n",
       "    .dataframe tbody tr th:only-of-type {\n",
       "        vertical-align: middle;\n",
       "    }\n",
       "\n",
       "    .dataframe tbody tr th {\n",
       "        vertical-align: top;\n",
       "    }\n",
       "\n",
       "    .dataframe thead th {\n",
       "        text-align: right;\n",
       "    }\n",
       "</style>\n",
       "<table border=\"1\" class=\"dataframe\">\n",
       "  <thead>\n",
       "    <tr style=\"text-align: right;\">\n",
       "      <th></th>\n",
       "      <th>Group</th>\n",
       "      <th>Seniority</th>\n",
       "      <th>Position</th>\n",
       "      <th>Location</th>\n",
       "      <th>Salary_b2b</th>\n",
       "      <th>Salary_permanent</th>\n",
       "      <th>Obligatory_skills</th>\n",
       "      <th>Optional_skills</th>\n",
       "    </tr>\n",
       "  </thead>\n",
       "  <tbody>\n",
       "    <tr>\n",
       "      <th>0</th>\n",
       "      <td>Javascript</td>\n",
       "      <td>Senior</td>\n",
       "      <td>Test Specialist</td>\n",
       "      <td>Warszawa</td>\n",
       "      <td>14 000 - 20 000 PLN</td>\n",
       "      <td>No permanent information</td>\n",
       "      <td>[{'Python': 'advanced'}, {'MS SQL': 'advanced'...</td>\n",
       "      <td>NaN</td>\n",
       "    </tr>\n",
       "    <tr>\n",
       "      <th>1</th>\n",
       "      <td>Javascript</td>\n",
       "      <td>Senior</td>\n",
       "      <td>Senior Full-Stack (React-Ruby) Engineer</td>\n",
       "      <td>Warszawa</td>\n",
       "      <td>21 000 - 25 500 PLN</td>\n",
       "      <td>No permanent information</td>\n",
       "      <td>[{'TypeScript': 'master'}, {'React': 'master'}...</td>\n",
       "      <td>NaN</td>\n",
       "    </tr>\n",
       "    <tr>\n",
       "      <th>2</th>\n",
       "      <td>Javascript</td>\n",
       "      <td>Senior</td>\n",
       "      <td>Senior Vue.js Frontend Developer</td>\n",
       "      <td>Warszawa</td>\n",
       "      <td>22 500 - 27 000 PLN</td>\n",
       "      <td>No permanent information</td>\n",
       "      <td>[{'Vue.js': 'advanced'}, {'JavaScript': 'advan...</td>\n",
       "      <td>[{'ReactJS': 'nice to have'}, {'Go': 'nice to ...</td>\n",
       "    </tr>\n",
       "    <tr>\n",
       "      <th>3</th>\n",
       "      <td>Javascript</td>\n",
       "      <td>Mid</td>\n",
       "      <td>Front-End Developer</td>\n",
       "      <td>Katowice</td>\n",
       "      <td>8 000 - 14 000 PLN</td>\n",
       "      <td>No permanent information</td>\n",
       "      <td>[{'English': 'regular'}, {'TypeScript': 'regul...</td>\n",
       "      <td>[{'Node.js': 'nice to have'}]</td>\n",
       "    </tr>\n",
       "    <tr>\n",
       "      <th>4</th>\n",
       "      <td>Javascript</td>\n",
       "      <td>Mid</td>\n",
       "      <td>Fullstack .NET Developer + Vue.js</td>\n",
       "      <td>Warszawa</td>\n",
       "      <td>13 600 - 23 200 PLN</td>\n",
       "      <td>No permanent information</td>\n",
       "      <td>[{'C#': 'advanced'}, {'Vue.js': 'advanced'}, {...</td>\n",
       "      <td>NaN</td>\n",
       "    </tr>\n",
       "    <tr>\n",
       "      <th>...</th>\n",
       "      <td>...</td>\n",
       "      <td>...</td>\n",
       "      <td>...</td>\n",
       "      <td>...</td>\n",
       "      <td>...</td>\n",
       "      <td>...</td>\n",
       "      <td>...</td>\n",
       "      <td>...</td>\n",
       "    </tr>\n",
       "    <tr>\n",
       "      <th>5501</th>\n",
       "      <td>Other</td>\n",
       "      <td>Junior</td>\n",
       "      <td>Web Publisher</td>\n",
       "      <td>Wrocław</td>\n",
       "      <td>7 000 - 9 000 PLN</td>\n",
       "      <td>No permanent information</td>\n",
       "      <td>[{'English': 'advanced'}, {'CMS (Content Manag...</td>\n",
       "      <td>[{'Adobe Experiece Manager': 'nice to have'}]</td>\n",
       "    </tr>\n",
       "    <tr>\n",
       "      <th>5502</th>\n",
       "      <td>Other</td>\n",
       "      <td>Junior</td>\n",
       "      <td>Blockchain Developer</td>\n",
       "      <td>Kraków</td>\n",
       "      <td>5 000 - 9 000 PLN</td>\n",
       "      <td>5 000 - 9 000 PLN</td>\n",
       "      <td>[{'Blockchain': 'junior'}]</td>\n",
       "      <td>[{'layer 2': 'nice to have'}, {'EVM': 'nice to...</td>\n",
       "    </tr>\n",
       "    <tr>\n",
       "      <th>5503</th>\n",
       "      <td>Other</td>\n",
       "      <td>Junior</td>\n",
       "      <td>Junior ETL Developer</td>\n",
       "      <td>Łódź</td>\n",
       "      <td>Undisclosed Salary</td>\n",
       "      <td>No permanent information</td>\n",
       "      <td>[{'ETL': 'junior'}, {'Microsoft SQL Server / S...</td>\n",
       "      <td>[{'Banking experience': 'nice to have'}, {'uc4...</td>\n",
       "    </tr>\n",
       "    <tr>\n",
       "      <th>5504</th>\n",
       "      <td>Other</td>\n",
       "      <td>Junior</td>\n",
       "      <td>Junior Specialist in model validation</td>\n",
       "      <td>Łódź</td>\n",
       "      <td>Undisclosed Salary</td>\n",
       "      <td>No permanent information</td>\n",
       "      <td>[{'SQL': 'regular'}, {'R': 'junior'}, {'Matlab...</td>\n",
       "      <td>NaN</td>\n",
       "    </tr>\n",
       "    <tr>\n",
       "      <th>5505</th>\n",
       "      <td>Other</td>\n",
       "      <td>Junior</td>\n",
       "      <td>Blockchain Developer</td>\n",
       "      <td>Warszawa</td>\n",
       "      <td>5 000 - 9 000 PLN</td>\n",
       "      <td>5 000 - 9 000 PLN</td>\n",
       "      <td>[{'Blockchain': 'junior'}]</td>\n",
       "      <td>[{'layer 2': 'nice to have'}, {'EVM': 'nice to...</td>\n",
       "    </tr>\n",
       "  </tbody>\n",
       "</table>\n",
       "<p>5506 rows × 8 columns</p>\n",
       "</div>"
      ],
      "text/plain": [
       "           Group Seniority                                 Position   Location           Salary_b2b          Salary_permanent                                  Obligatory_skills                                    Optional_skills\n",
       "0     Javascript    Senior                          Test Specialist   Warszawa  14 000 - 20 000 PLN  No permanent information  [{'Python': 'advanced'}, {'MS SQL': 'advanced'...                                                NaN\n",
       "1     Javascript    Senior  Senior Full-Stack (React-Ruby) Engineer   Warszawa  21 000 - 25 500 PLN  No permanent information  [{'TypeScript': 'master'}, {'React': 'master'}...                                                NaN\n",
       "2     Javascript    Senior         Senior Vue.js Frontend Developer   Warszawa  22 500 - 27 000 PLN  No permanent information  [{'Vue.js': 'advanced'}, {'JavaScript': 'advan...  [{'ReactJS': 'nice to have'}, {'Go': 'nice to ...\n",
       "3     Javascript       Mid                      Front-End Developer   Katowice   8 000 - 14 000 PLN  No permanent information  [{'English': 'regular'}, {'TypeScript': 'regul...                      [{'Node.js': 'nice to have'}]\n",
       "4     Javascript       Mid        Fullstack .NET Developer + Vue.js   Warszawa  13 600 - 23 200 PLN  No permanent information  [{'C#': 'advanced'}, {'Vue.js': 'advanced'}, {...                                                NaN\n",
       "...          ...       ...                                      ...        ...                  ...                       ...                                                ...                                                ...\n",
       "5501       Other    Junior                            Web Publisher    Wrocław    7 000 - 9 000 PLN  No permanent information  [{'English': 'advanced'}, {'CMS (Content Manag...      [{'Adobe Experiece Manager': 'nice to have'}]\n",
       "5502       Other    Junior                     Blockchain Developer     Kraków    5 000 - 9 000 PLN         5 000 - 9 000 PLN                         [{'Blockchain': 'junior'}]  [{'layer 2': 'nice to have'}, {'EVM': 'nice to...\n",
       "5503       Other    Junior                     Junior ETL Developer       Łódź   Undisclosed Salary  No permanent information  [{'ETL': 'junior'}, {'Microsoft SQL Server / S...  [{'Banking experience': 'nice to have'}, {'uc4...\n",
       "5504       Other    Junior    Junior Specialist in model validation       Łódź   Undisclosed Salary  No permanent information  [{'SQL': 'regular'}, {'R': 'junior'}, {'Matlab...                                                NaN\n",
       "5505       Other    Junior                     Blockchain Developer   Warszawa    5 000 - 9 000 PLN         5 000 - 9 000 PLN                         [{'Blockchain': 'junior'}]  [{'layer 2': 'nice to have'}, {'EVM': 'nice to...\n",
       "\n",
       "[5506 rows x 8 columns]"
      ]
     },
     "execution_count": 5,
     "metadata": {},
     "output_type": "execute_result"
    }
   ],
   "source": [
    "df"
   ]
  },
  {
   "cell_type": "markdown",
   "metadata": {},
   "source": [
    "###### Wyświetlenie danych kolumny \"Obligatory_skills\""
   ]
  },
  {
   "cell_type": "code",
   "execution_count": 11,
   "metadata": {},
   "outputs": [
    {
     "data": {
      "text/plain": [
       "0       [{'Python': 'advanced'}, {'MS SQL': 'advanced'...\n",
       "1       [{'TypeScript': 'master'}, {'React': 'master'}...\n",
       "2       [{'Vue.js': 'advanced'}, {'JavaScript': 'advan...\n",
       "3       [{'English': 'regular'}, {'TypeScript': 'regul...\n",
       "4       [{'C#': 'advanced'}, {'Vue.js': 'advanced'}, {...\n",
       "                              ...                        \n",
       "5501    [{'English': 'advanced'}, {'CMS (Content Manag...\n",
       "5502                           [{'Blockchain': 'junior'}]\n",
       "5503    [{'ETL': 'junior'}, {'Microsoft SQL Server / S...\n",
       "5504    [{'SQL': 'regular'}, {'R': 'junior'}, {'Matlab...\n",
       "5505                           [{'Blockchain': 'junior'}]\n",
       "Name: Obligatory_skills, Length: 5506, dtype: object"
      ]
     },
     "execution_count": 11,
     "metadata": {},
     "output_type": "execute_result"
    }
   ],
   "source": [
    "df['Obligatory_skills']"
   ]
  },
  {
   "cell_type": "markdown",
   "metadata": {},
   "source": [
    "###### Konwertowanie danych w wierszach do listy oraz zmiana stringów do wersji title"
   ]
  },
  {
   "cell_type": "code",
   "execution_count": 12,
   "metadata": {
    "pycharm": {
     "name": "#%%\n"
    }
   },
   "outputs": [],
   "source": [
    "df['Obligatory_skills'] = df['Obligatory_skills'].apply(lambda row: row[1:-1].title().split(','))"
   ]
  },
  {
   "cell_type": "markdown",
   "metadata": {},
   "source": [
    "###### Wyświetlenie danych kolumny \"Obligatory_skills\" po konwersji"
   ]
  },
  {
   "cell_type": "code",
   "execution_count": 13,
   "metadata": {},
   "outputs": [
    {
     "data": {
      "text/plain": [
       "0       [{'Python': 'Advanced'},  {'Ms Sql': 'Advanced...\n",
       "1       [{'Typescript': 'Master'},  {'React': 'Master'...\n",
       "2       [{'Vue.Js': 'Advanced'},  {'Javascript': 'Adva...\n",
       "3       [{'English': 'Regular'},  {'Typescript': 'Regu...\n",
       "4       [{'C#': 'Advanced'},  {'Vue.Js': 'Advanced'}, ...\n",
       "                              ...                        \n",
       "5501    [{'English': 'Advanced'},  {'Cms (Content Mana...\n",
       "5502                           [{'Blockchain': 'Junior'}]\n",
       "5503    [{'Etl': 'Junior'},  {'Microsoft Sql Server / ...\n",
       "5504    [{'Sql': 'Regular'},  {'R': 'Junior'},  {'Matl...\n",
       "5505                           [{'Blockchain': 'Junior'}]\n",
       "Name: Obligatory_skills, Length: 5506, dtype: object"
      ]
     },
     "execution_count": 13,
     "metadata": {},
     "output_type": "execute_result"
    }
   ],
   "source": [
    "df['Obligatory_skills']"
   ]
  },
  {
   "cell_type": "markdown",
   "metadata": {},
   "source": [
    "###### Przekształcenie listy danych w kolumnie \"Obligatory_skills\" na wiersze"
   ]
  },
  {
   "cell_type": "code",
   "execution_count": 15,
   "metadata": {},
   "outputs": [],
   "source": [
    "df = df.explode('Obligatory_skills')"
   ]
  },
  {
   "cell_type": "markdown",
   "metadata": {},
   "source": [
    "###### Wyświetlenie danych kolumny \"Obligatory_skills\" po rozbiciu na wiesze"
   ]
  },
  {
   "cell_type": "code",
   "execution_count": 16,
   "metadata": {},
   "outputs": [
    {
     "data": {
      "text/plain": [
       "0                 {'Python': 'Advanced'}\n",
       "0                 {'Ms Sql': 'Advanced'}\n",
       "0           {'Azure Devops': 'Advanced'}\n",
       "1               {'Typescript': 'Master'}\n",
       "1                    {'React': 'Master'}\n",
       "                      ...               \n",
       "5503     {'Business Analysis': 'Junior'}\n",
       "5504                  {'Sql': 'Regular'}\n",
       "5504                     {'R': 'Junior'}\n",
       "5504                {'Matlab': 'Junior'}\n",
       "5505            {'Blockchain': 'Junior'}\n",
       "Name: Obligatory_skills, Length: 26322, dtype: object"
      ]
     },
     "execution_count": 16,
     "metadata": {},
     "output_type": "execute_result"
    }
   ],
   "source": [
    "df['Obligatory_skills']"
   ]
  },
  {
   "cell_type": "markdown",
   "metadata": {},
   "source": [
    "###### Zmiana pustych miejsc na obiekt “not a number“ z biblioteki numpy"
   ]
  },
  {
   "cell_type": "code",
   "execution_count": 17,
   "metadata": {},
   "outputs": [],
   "source": [
    "df = df.replace('', np.nan)"
   ]
  },
  {
   "cell_type": "markdown",
   "metadata": {},
   "source": [
    "###### Usunięcie brakujących danych"
   ]
  },
  {
   "cell_type": "code",
   "execution_count": 18,
   "metadata": {},
   "outputs": [],
   "source": [
    "df = df.dropna(subset=['Obligatory_skills', 'Optional_skills'])"
   ]
  },
  {
   "cell_type": "markdown",
   "metadata": {},
   "source": [
    "###### Wyświetlenie danych kolumny \"Obligatory_skills\" po usunięciu (widac length 9646, poprzednio 26322)"
   ]
  },
  {
   "cell_type": "code",
   "execution_count": 20,
   "metadata": {},
   "outputs": [
    {
     "data": {
      "text/plain": [
       "2                                  {'Vue.Js': 'Advanced'}\n",
       "2                              {'Javascript': 'Advanced'}\n",
       "2                                      {'Css': 'Regular'}\n",
       "2                                     {'Html': 'Regular'}\n",
       "3                                  {'English': 'Regular'}\n",
       "                              ...                        \n",
       "5502                             {'Blockchain': 'Junior'}\n",
       "5503                                    {'Etl': 'Junior'}\n",
       "5503     {'Microsoft Sql Server / Sql / Relational Dat...\n",
       "5503                      {'Business Analysis': 'Junior'}\n",
       "5505                             {'Blockchain': 'Junior'}\n",
       "Name: Obligatory_skills, Length: 9646, dtype: object"
      ]
     },
     "execution_count": 20,
     "metadata": {},
     "output_type": "execute_result"
    }
   ],
   "source": [
    "df['Obligatory_skills']"
   ]
  },
  {
   "cell_type": "markdown",
   "metadata": {},
   "source": [
    "###### Wyodrębnienie technologii z \"Obligatory_skills\" i przypisanie do nowej kolumny"
   ]
  },
  {
   "cell_type": "code",
   "execution_count": 21,
   "metadata": {
    "pycharm": {
     "name": "#%%\n"
    }
   },
   "outputs": [],
   "source": [
    "df['technology_name'] = df['Obligatory_skills'].str.extract(\n",
    "    \"{\\'(.*)\\':\")"
   ]
  },
  {
   "cell_type": "markdown",
   "metadata": {},
   "source": [
    "###### Wyświetlenie danych kolumny \"technology_name\""
   ]
  },
  {
   "cell_type": "code",
   "execution_count": 22,
   "metadata": {
    "pycharm": {
     "name": "#%%\n"
    }
   },
   "outputs": [
    {
     "data": {
      "text/plain": [
       "2                                                  Vue.Js\n",
       "2                                              Javascript\n",
       "2                                                     Css\n",
       "2                                                    Html\n",
       "3                                                 English\n",
       "                              ...                        \n",
       "5502                                           Blockchain\n",
       "5503                                                  Etl\n",
       "5503    Microsoft Sql Server / Sql / Relational Databases\n",
       "5503                                    Business Analysis\n",
       "5505                                           Blockchain\n",
       "Name: technology_name, Length: 9646, dtype: object"
      ]
     },
     "execution_count": 22,
     "metadata": {},
     "output_type": "execute_result"
    }
   ],
   "source": [
    "df['technology_name']"
   ]
  },
  {
   "cell_type": "markdown",
   "metadata": {},
   "source": [
    "###### Wyświetlenie danych kolumny \"Optional_skills\""
   ]
  },
  {
   "cell_type": "code",
   "execution_count": 23,
   "metadata": {},
   "outputs": [
    {
     "data": {
      "text/plain": [
       "2       [{'ReactJS': 'nice to have'}, {'Go': 'nice to ...\n",
       "2       [{'ReactJS': 'nice to have'}, {'Go': 'nice to ...\n",
       "2       [{'ReactJS': 'nice to have'}, {'Go': 'nice to ...\n",
       "2       [{'ReactJS': 'nice to have'}, {'Go': 'nice to ...\n",
       "3                           [{'Node.js': 'nice to have'}]\n",
       "                              ...                        \n",
       "5502    [{'layer 2': 'nice to have'}, {'EVM': 'nice to...\n",
       "5503    [{'Banking experience': 'nice to have'}, {'uc4...\n",
       "5503    [{'Banking experience': 'nice to have'}, {'uc4...\n",
       "5503    [{'Banking experience': 'nice to have'}, {'uc4...\n",
       "5505    [{'layer 2': 'nice to have'}, {'EVM': 'nice to...\n",
       "Name: Optional_skills, Length: 9646, dtype: object"
      ]
     },
     "execution_count": 23,
     "metadata": {},
     "output_type": "execute_result"
    }
   ],
   "source": [
    "df['Optional_skills']"
   ]
  },
  {
   "cell_type": "markdown",
   "metadata": {},
   "source": [
    "###### Konwertowanie danych w wierszach do listy oraz zmiana stringów do wersji title"
   ]
  },
  {
   "cell_type": "code",
   "execution_count": 24,
   "metadata": {},
   "outputs": [],
   "source": [
    "df['Optional_skills'] = df['Optional_skills'].apply(lambda row: row[1:-1].title().split(','))"
   ]
  },
  {
   "cell_type": "markdown",
   "metadata": {},
   "source": [
    "###### Przekształcenie listy danych w kolumnie \"Optional_skills\" na wiersze"
   ]
  },
  {
   "cell_type": "code",
   "execution_count": 25,
   "metadata": {},
   "outputs": [],
   "source": [
    "df = df.explode('Optional_skills')"
   ]
  },
  {
   "cell_type": "markdown",
   "metadata": {},
   "source": [
    "###### Wyświetlenie danych kolumny \"Optional_skills\""
   ]
  },
  {
   "cell_type": "code",
   "execution_count": 26,
   "metadata": {},
   "outputs": [
    {
     "data": {
      "text/plain": [
       "2            {'Reactjs': 'Nice To Have'}\n",
       "2                 {'Go': 'Nice To Have'}\n",
       "2              {'Agile': 'Nice To Have'}\n",
       "2        {'Open Source': 'Nice To Have'}\n",
       "2            {'Reactjs': 'Nice To Have'}\n",
       "                      ...               \n",
       "5503           {'Maven': 'Nice To Have'}\n",
       "5503            {'Jira': 'Nice To Have'}\n",
       "5505         {'Layer 2': 'Nice To Have'}\n",
       "5505             {'Evm': 'Nice To Have'}\n",
       "5505        {'Solidity': 'Nice To Have'}\n",
       "Name: Optional_skills, Length: 21107, dtype: object"
      ]
     },
     "execution_count": 26,
     "metadata": {},
     "output_type": "execute_result"
    }
   ],
   "source": [
    "df['Optional_skills']"
   ]
  },
  {
   "cell_type": "markdown",
   "metadata": {},
   "source": [
    "###### Wyodrębnienie technologii z \"Optional_skills\" i przypisanie do nowej kolumny"
   ]
  },
  {
   "cell_type": "code",
   "execution_count": 27,
   "metadata": {},
   "outputs": [],
   "source": [
    "df['technology_optional_name'] = df['Optional_skills'].str.extract(\n",
    "    \"{\\'(.*)\\':\")"
   ]
  },
  {
   "cell_type": "markdown",
   "metadata": {},
   "source": [
    "###### Wyświetlenie danych kolumny \"technology_optional_name\""
   ]
  },
  {
   "cell_type": "code",
   "execution_count": 29,
   "metadata": {},
   "outputs": [
    {
     "data": {
      "text/plain": [
       "2           Reactjs\n",
       "2                Go\n",
       "2             Agile\n",
       "2       Open Source\n",
       "2           Reactjs\n",
       "           ...     \n",
       "5503          Maven\n",
       "5503           Jira\n",
       "5505        Layer 2\n",
       "5505            Evm\n",
       "5505       Solidity\n",
       "Name: technology_optional_name, Length: 21107, dtype: object"
      ]
     },
     "execution_count": 29,
     "metadata": {},
     "output_type": "execute_result"
    }
   ],
   "source": [
    "df['technology_optional_name']"
   ]
  },
  {
   "cell_type": "markdown",
   "metadata": {},
   "source": [
    "###### Sortowanie kolumny \"technology_name\" i agregacja danych do za pomocą funkcji \"Count\", \"Size\" i \"Nunique\""
   ]
  },
  {
   "cell_type": "code",
   "execution_count": 30,
   "metadata": {},
   "outputs": [
    {
     "data": {
      "text/plain": [
       "count      21097\n",
       "size       21107\n",
       "nunique     1210\n",
       "Name: technology_name, dtype: int64"
      ]
     },
     "execution_count": 30,
     "metadata": {},
     "output_type": "execute_result"
    }
   ],
   "source": [
    "df['technology_name'].sort_values().agg(['count', 'size', 'nunique'])"
   ]
  },
  {
   "cell_type": "markdown",
   "metadata": {},
   "source": [
    "###### Agregacja kolumny \"technology_name\" za pomocą funkcji \"Count\", \"Size\" i \"Nunique\". Wyświetlenie danych w kolumnowej. "
   ]
  },
  {
   "cell_type": "code",
   "execution_count": 31,
   "metadata": {},
   "outputs": [
    {
     "data": {
      "text/html": [
       "<div>\n",
       "<style scoped>\n",
       "    .dataframe tbody tr th:only-of-type {\n",
       "        vertical-align: middle;\n",
       "    }\n",
       "\n",
       "    .dataframe tbody tr th {\n",
       "        vertical-align: top;\n",
       "    }\n",
       "\n",
       "    .dataframe thead th {\n",
       "        text-align: right;\n",
       "    }\n",
       "</style>\n",
       "<table border=\"1\" class=\"dataframe\">\n",
       "  <thead>\n",
       "    <tr style=\"text-align: right;\">\n",
       "      <th></th>\n",
       "      <th></th>\n",
       "      <th>Group</th>\n",
       "      <th>Seniority</th>\n",
       "      <th>Position</th>\n",
       "      <th>Location</th>\n",
       "      <th>Salary_b2b</th>\n",
       "      <th>Salary_permanent</th>\n",
       "      <th>Obligatory_skills</th>\n",
       "      <th>Optional_skills</th>\n",
       "      <th>technology_optional_name</th>\n",
       "    </tr>\n",
       "    <tr>\n",
       "      <th>technology_name</th>\n",
       "      <th></th>\n",
       "      <th></th>\n",
       "      <th></th>\n",
       "      <th></th>\n",
       "      <th></th>\n",
       "      <th></th>\n",
       "      <th></th>\n",
       "      <th></th>\n",
       "      <th></th>\n",
       "      <th></th>\n",
       "    </tr>\n",
       "  </thead>\n",
       "  <tbody>\n",
       "    <tr>\n",
       "      <th rowspan=\"3\" valign=\"top\">.Net</th>\n",
       "      <th>count</th>\n",
       "      <td>156</td>\n",
       "      <td>156</td>\n",
       "      <td>156</td>\n",
       "      <td>156</td>\n",
       "      <td>156</td>\n",
       "      <td>156</td>\n",
       "      <td>156</td>\n",
       "      <td>156</td>\n",
       "      <td>156</td>\n",
       "    </tr>\n",
       "    <tr>\n",
       "      <th>size</th>\n",
       "      <td>156</td>\n",
       "      <td>156</td>\n",
       "      <td>156</td>\n",
       "      <td>156</td>\n",
       "      <td>156</td>\n",
       "      <td>156</td>\n",
       "      <td>156</td>\n",
       "      <td>156</td>\n",
       "      <td>156</td>\n",
       "    </tr>\n",
       "    <tr>\n",
       "      <th>nunique</th>\n",
       "      <td>8</td>\n",
       "      <td>3</td>\n",
       "      <td>42</td>\n",
       "      <td>15</td>\n",
       "      <td>37</td>\n",
       "      <td>6</td>\n",
       "      <td>7</td>\n",
       "      <td>89</td>\n",
       "      <td>74</td>\n",
       "    </tr>\n",
       "    <tr>\n",
       "      <th rowspan=\"2\" valign=\"top\">.Net 4.5</th>\n",
       "      <th>count</th>\n",
       "      <td>2</td>\n",
       "      <td>2</td>\n",
       "      <td>2</td>\n",
       "      <td>2</td>\n",
       "      <td>2</td>\n",
       "      <td>2</td>\n",
       "      <td>2</td>\n",
       "      <td>2</td>\n",
       "      <td>2</td>\n",
       "    </tr>\n",
       "    <tr>\n",
       "      <th>size</th>\n",
       "      <td>2</td>\n",
       "      <td>2</td>\n",
       "      <td>2</td>\n",
       "      <td>2</td>\n",
       "      <td>2</td>\n",
       "      <td>2</td>\n",
       "      <td>2</td>\n",
       "      <td>2</td>\n",
       "      <td>2</td>\n",
       "    </tr>\n",
       "    <tr>\n",
       "      <th>...</th>\n",
       "      <th>...</th>\n",
       "      <td>...</td>\n",
       "      <td>...</td>\n",
       "      <td>...</td>\n",
       "      <td>...</td>\n",
       "      <td>...</td>\n",
       "      <td>...</td>\n",
       "      <td>...</td>\n",
       "      <td>...</td>\n",
       "      <td>...</td>\n",
       "    </tr>\n",
       "    <tr>\n",
       "      <th rowspan=\"2\" valign=\"top\">• Symfony</th>\n",
       "      <th>size</th>\n",
       "      <td>5</td>\n",
       "      <td>5</td>\n",
       "      <td>5</td>\n",
       "      <td>5</td>\n",
       "      <td>5</td>\n",
       "      <td>5</td>\n",
       "      <td>5</td>\n",
       "      <td>5</td>\n",
       "      <td>5</td>\n",
       "    </tr>\n",
       "    <tr>\n",
       "      <th>nunique</th>\n",
       "      <td>1</td>\n",
       "      <td>1</td>\n",
       "      <td>1</td>\n",
       "      <td>1</td>\n",
       "      <td>1</td>\n",
       "      <td>1</td>\n",
       "      <td>1</td>\n",
       "      <td>5</td>\n",
       "      <td>5</td>\n",
       "    </tr>\n",
       "    <tr>\n",
       "      <th rowspan=\"3\" valign=\"top\">• Zend Framework</th>\n",
       "      <th>count</th>\n",
       "      <td>5</td>\n",
       "      <td>5</td>\n",
       "      <td>5</td>\n",
       "      <td>5</td>\n",
       "      <td>5</td>\n",
       "      <td>5</td>\n",
       "      <td>5</td>\n",
       "      <td>5</td>\n",
       "      <td>5</td>\n",
       "    </tr>\n",
       "    <tr>\n",
       "      <th>size</th>\n",
       "      <td>5</td>\n",
       "      <td>5</td>\n",
       "      <td>5</td>\n",
       "      <td>5</td>\n",
       "      <td>5</td>\n",
       "      <td>5</td>\n",
       "      <td>5</td>\n",
       "      <td>5</td>\n",
       "      <td>5</td>\n",
       "    </tr>\n",
       "    <tr>\n",
       "      <th>nunique</th>\n",
       "      <td>1</td>\n",
       "      <td>1</td>\n",
       "      <td>1</td>\n",
       "      <td>1</td>\n",
       "      <td>1</td>\n",
       "      <td>1</td>\n",
       "      <td>1</td>\n",
       "      <td>5</td>\n",
       "      <td>5</td>\n",
       "    </tr>\n",
       "  </tbody>\n",
       "</table>\n",
       "<p>3630 rows × 9 columns</p>\n",
       "</div>"
      ],
      "text/plain": [
       "                          Group  Seniority  Position  Location  Salary_b2b  Salary_permanent  Obligatory_skills  Optional_skills  technology_optional_name\n",
       "technology_name                                                                                                                                           \n",
       ".Net             count      156        156       156       156         156               156                156              156                       156\n",
       "                 size       156        156       156       156         156               156                156              156                       156\n",
       "                 nunique      8          3        42        15          37                 6                  7               89                        74\n",
       ".Net 4.5         count        2          2         2         2           2                 2                  2                2                         2\n",
       "                 size         2          2         2         2           2                 2                  2                2                         2\n",
       "...                         ...        ...       ...       ...         ...               ...                ...              ...                       ...\n",
       "• Symfony        size         5          5         5         5           5                 5                  5                5                         5\n",
       "                 nunique      1          1         1         1           1                 1                  1                5                         5\n",
       "• Zend Framework count        5          5         5         5           5                 5                  5                5                         5\n",
       "                 size         5          5         5         5           5                 5                  5                5                         5\n",
       "                 nunique      1          1         1         1           1                 1                  1                5                         5\n",
       "\n",
       "[3630 rows x 9 columns]"
      ]
     },
     "execution_count": 31,
     "metadata": {},
     "output_type": "execute_result"
    }
   ],
   "source": [
    "df.groupby('technology_name').agg(['count', 'size', 'nunique']).stack()"
   ]
  },
  {
   "cell_type": "markdown",
   "metadata": {},
   "source": [
    "###### Tworzenie ramki danych po zgrupowaniu kolumny 'technology_name' i policzeniu wystapień danych nazw"
   ]
  },
  {
   "cell_type": "code",
   "execution_count": 33,
   "metadata": {},
   "outputs": [],
   "source": [
    "df_obligatory_skills = df.groupby('technology_name').count().reset_index().sort_values('Obligatory_skills',ascending=False).reset_index()[['technology_name', 'Obligatory_skills']]"
   ]
  },
  {
   "cell_type": "markdown",
   "metadata": {},
   "source": [
    "###### Wyświetlenie 15 wierszy z nawieksza wartością"
   ]
  },
  {
   "cell_type": "code",
   "execution_count": 34,
   "metadata": {},
   "outputs": [
    {
     "data": {
      "text/html": [
       "<div>\n",
       "<style scoped>\n",
       "    .dataframe tbody tr th:only-of-type {\n",
       "        vertical-align: middle;\n",
       "    }\n",
       "\n",
       "    .dataframe tbody tr th {\n",
       "        vertical-align: top;\n",
       "    }\n",
       "\n",
       "    .dataframe thead th {\n",
       "        text-align: right;\n",
       "    }\n",
       "</style>\n",
       "<table border=\"1\" class=\"dataframe\">\n",
       "  <thead>\n",
       "    <tr style=\"text-align: right;\">\n",
       "      <th></th>\n",
       "      <th>technology_name</th>\n",
       "      <th>Obligatory_skills</th>\n",
       "    </tr>\n",
       "  </thead>\n",
       "  <tbody>\n",
       "    <tr>\n",
       "      <th>0</th>\n",
       "      <td>Git</td>\n",
       "      <td>903</td>\n",
       "    </tr>\n",
       "    <tr>\n",
       "      <th>1</th>\n",
       "      <td>Javascript</td>\n",
       "      <td>886</td>\n",
       "    </tr>\n",
       "    <tr>\n",
       "      <th>2</th>\n",
       "      <td>Sql</td>\n",
       "      <td>749</td>\n",
       "    </tr>\n",
       "    <tr>\n",
       "      <th>3</th>\n",
       "      <td>English</td>\n",
       "      <td>654</td>\n",
       "    </tr>\n",
       "    <tr>\n",
       "      <th>4</th>\n",
       "      <td>Java</td>\n",
       "      <td>640</td>\n",
       "    </tr>\n",
       "    <tr>\n",
       "      <th>5</th>\n",
       "      <td>Python</td>\n",
       "      <td>544</td>\n",
       "    </tr>\n",
       "    <tr>\n",
       "      <th>6</th>\n",
       "      <td>Docker</td>\n",
       "      <td>457</td>\n",
       "    </tr>\n",
       "    <tr>\n",
       "      <th>7</th>\n",
       "      <td>Linux</td>\n",
       "      <td>388</td>\n",
       "    </tr>\n",
       "    <tr>\n",
       "      <th>8</th>\n",
       "      <td>Typescript</td>\n",
       "      <td>375</td>\n",
       "    </tr>\n",
       "    <tr>\n",
       "      <th>9</th>\n",
       "      <td>Php</td>\n",
       "      <td>342</td>\n",
       "    </tr>\n",
       "    <tr>\n",
       "      <th>10</th>\n",
       "      <td>Mysql</td>\n",
       "      <td>297</td>\n",
       "    </tr>\n",
       "    <tr>\n",
       "      <th>11</th>\n",
       "      <td>React</td>\n",
       "      <td>282</td>\n",
       "    </tr>\n",
       "    <tr>\n",
       "      <th>12</th>\n",
       "      <td>Css</td>\n",
       "      <td>281</td>\n",
       "    </tr>\n",
       "    <tr>\n",
       "      <th>13</th>\n",
       "      <td>Rest Api</td>\n",
       "      <td>265</td>\n",
       "    </tr>\n",
       "    <tr>\n",
       "      <th>14</th>\n",
       "      <td>Aws</td>\n",
       "      <td>247</td>\n",
       "    </tr>\n",
       "  </tbody>\n",
       "</table>\n",
       "</div>"
      ],
      "text/plain": [
       "   technology_name  Obligatory_skills\n",
       "0              Git                903\n",
       "1       Javascript                886\n",
       "2              Sql                749\n",
       "3          English                654\n",
       "4             Java                640\n",
       "5           Python                544\n",
       "6           Docker                457\n",
       "7            Linux                388\n",
       "8       Typescript                375\n",
       "9              Php                342\n",
       "10           Mysql                297\n",
       "11           React                282\n",
       "12             Css                281\n",
       "13        Rest Api                265\n",
       "14             Aws                247"
      ]
     },
     "execution_count": 34,
     "metadata": {},
     "output_type": "execute_result"
    }
   ],
   "source": [
    "df_obligatory_skills.head(15)"
   ]
  },
  {
   "cell_type": "markdown",
   "metadata": {},
   "source": [
    "###### Stworzenie wykresu słupkowego dla 20 technologii najbardziej poszukiwanych oraz wyswietlenie wartosici wystąpień"
   ]
  },
  {
   "cell_type": "code",
   "execution_count": 36,
   "metadata": {},
   "outputs": [
    {
     "data": {
      "text/plain": [
       "<AxesSubplot:title={'center':'Most wanded obligatory skills'}, xlabel='technology_name'>"
      ]
     },
     "execution_count": 36,
     "metadata": {},
     "output_type": "execute_result"
    },
    {
     "data": {
      "image/png": "[encoded data removed]",
      "text/plain": [
       "<Figure size 1800x1080 with 1 Axes>"
      ]
     },
     "metadata": {
      "needs_background": "light"
     },
     "output_type": "display_data"
    }
   ],
   "source": [
    "df_obligatory_skills.head(20).plot(x='technology_name', y='Obligatory_skills', kind='bar', fontsize=16, figsize=(25,15), title='Most wanded obligatory skills')"
   ]
  },
  {
   "cell_type": "markdown",
   "metadata": {},
   "source": [
    "###### Tworzenie ramki danych po zgrupowaniu kolumny 'technology_optional_name' i policzeniu wystapień danych nazw"
   ]
  },
  {
   "cell_type": "code",
   "execution_count": 37,
   "metadata": {},
   "outputs": [],
   "source": [
    "df_optional_skills = df.groupby('technology_optional_name').count().reset_index().sort_values('Optional_skills',ascending=False).reset_index()[['technology_optional_name', 'Optional_skills']]"
   ]
  },
  {
   "cell_type": "markdown",
   "metadata": {},
   "source": [
    "###### Wyświetlenie 10 wierszy z nawieksza wartością"
   ]
  },
  {
   "cell_type": "code",
   "execution_count": 39,
   "metadata": {},
   "outputs": [
    {
     "data": {
      "text/html": [
       "<div>\n",
       "<style scoped>\n",
       "    .dataframe tbody tr th:only-of-type {\n",
       "        vertical-align: middle;\n",
       "    }\n",
       "\n",
       "    .dataframe tbody tr th {\n",
       "        vertical-align: top;\n",
       "    }\n",
       "\n",
       "    .dataframe thead th {\n",
       "        text-align: right;\n",
       "    }\n",
       "</style>\n",
       "<table border=\"1\" class=\"dataframe\">\n",
       "  <thead>\n",
       "    <tr style=\"text-align: right;\">\n",
       "      <th></th>\n",
       "      <th>technology_optional_name</th>\n",
       "      <th>Optional_skills</th>\n",
       "    </tr>\n",
       "  </thead>\n",
       "  <tbody>\n",
       "    <tr>\n",
       "      <th>0</th>\n",
       "      <td>Aws</td>\n",
       "      <td>756</td>\n",
       "    </tr>\n",
       "    <tr>\n",
       "      <th>1</th>\n",
       "      <td>Docker</td>\n",
       "      <td>728</td>\n",
       "    </tr>\n",
       "    <tr>\n",
       "      <th>2</th>\n",
       "      <td>Kubernetes</td>\n",
       "      <td>474</td>\n",
       "    </tr>\n",
       "    <tr>\n",
       "      <th>3</th>\n",
       "      <td>Python</td>\n",
       "      <td>451</td>\n",
       "    </tr>\n",
       "    <tr>\n",
       "      <th>4</th>\n",
       "      <td>Javascript</td>\n",
       "      <td>393</td>\n",
       "    </tr>\n",
       "    <tr>\n",
       "      <th>5</th>\n",
       "      <td>React</td>\n",
       "      <td>376</td>\n",
       "    </tr>\n",
       "    <tr>\n",
       "      <th>6</th>\n",
       "      <td>Java</td>\n",
       "      <td>367</td>\n",
       "    </tr>\n",
       "    <tr>\n",
       "      <th>7</th>\n",
       "      <td>Node.Js</td>\n",
       "      <td>351</td>\n",
       "    </tr>\n",
       "    <tr>\n",
       "      <th>8</th>\n",
       "      <td>Azure</td>\n",
       "      <td>327</td>\n",
       "    </tr>\n",
       "    <tr>\n",
       "      <th>9</th>\n",
       "      <td>Angular</td>\n",
       "      <td>324</td>\n",
       "    </tr>\n",
       "  </tbody>\n",
       "</table>\n",
       "</div>"
      ],
      "text/plain": [
       "  technology_optional_name  Optional_skills\n",
       "0                      Aws              756\n",
       "1                   Docker              728\n",
       "2               Kubernetes              474\n",
       "3                   Python              451\n",
       "4               Javascript              393\n",
       "5                    React              376\n",
       "6                     Java              367\n",
       "7                  Node.Js              351\n",
       "8                    Azure              327\n",
       "9                  Angular              324"
      ]
     },
     "execution_count": 39,
     "metadata": {},
     "output_type": "execute_result"
    }
   ],
   "source": [
    "df_optional_skills.head(10)"
   ]
  },
  {
   "cell_type": "markdown",
   "metadata": {},
   "source": [
    "###### Stworzenie wykresu słupkowego dla 20 opcjonalnych technologii najbardziej poszukiwanych oraz wyswietlenie wartosici wystąpień"
   ]
  },
  {
   "cell_type": "code",
   "execution_count": 40,
   "metadata": {},
   "outputs": [
    {
     "data": {
      "text/plain": [
       "<AxesSubplot:title={'center':'Most wanded optional skills'}, xlabel='technology_optional_name'>"
      ]
     },
     "execution_count": 40,
     "metadata": {},
     "output_type": "execute_result"
    },
    {
     "data": {
      "image/png": "[encoded data removed]",
      "text/plain": [
       "<Figure size 1800x1080 with 1 Axes>"
      ]
     },
     "metadata": {
      "needs_background": "light"
     },
     "output_type": "display_data"
    }
   ],
   "source": [
    "df_optional_skills.head(20).plot(x='technology_optional_name', y='Optional_skills', kind='bar', fontsize=16, figsize=(25,15), title='Most wanded optional skills')"
   ]
  },
  {
   "cell_type": "markdown",
   "metadata": {},
   "source": [
    "###### Wyświetlenie danych kolumny \"Group\""
   ]
  },
  {
   "cell_type": "code",
   "execution_count": 41,
   "metadata": {},
   "outputs": [
    {
     "data": {
      "text/plain": [
       "2       Javascript\n",
       "2       Javascript\n",
       "2       Javascript\n",
       "2       Javascript\n",
       "2       Javascript\n",
       "           ...    \n",
       "5503         Other\n",
       "5503         Other\n",
       "5505         Other\n",
       "5505         Other\n",
       "5505         Other\n",
       "Name: Group, Length: 21107, dtype: object"
      ]
     },
     "execution_count": 41,
     "metadata": {},
     "output_type": "execute_result"
    }
   ],
   "source": [
    "df['Group']"
   ]
  },
  {
   "cell_type": "markdown",
   "metadata": {},
   "source": [
    "###### Tworzenie ramki danych po zgrupowaniu kolumny 'Group' i policzeniu wystapień danych nazw"
   ]
  },
  {
   "cell_type": "code",
   "execution_count": 42,
   "metadata": {},
   "outputs": [],
   "source": [
    "df_technology_group = df.groupby('Group').count().sort_values('Seniority',ascending=False)"
   ]
  },
  {
   "cell_type": "markdown",
   "metadata": {},
   "source": [
    "###### Wyswietlenie danych nowej ramki"
   ]
  },
  {
   "cell_type": "code",
   "execution_count": 44,
   "metadata": {},
   "outputs": [
    {
     "data": {
      "text/html": [
       "<div>\n",
       "<style scoped>\n",
       "    .dataframe tbody tr th:only-of-type {\n",
       "        vertical-align: middle;\n",
       "    }\n",
       "\n",
       "    .dataframe tbody tr th {\n",
       "        vertical-align: top;\n",
       "    }\n",
       "\n",
       "    .dataframe thead th {\n",
       "        text-align: right;\n",
       "    }\n",
       "</style>\n",
       "<table border=\"1\" class=\"dataframe\">\n",
       "  <thead>\n",
       "    <tr style=\"text-align: right;\">\n",
       "      <th></th>\n",
       "      <th>Seniority</th>\n",
       "      <th>Position</th>\n",
       "      <th>Location</th>\n",
       "      <th>Salary_b2b</th>\n",
       "      <th>Salary_permanent</th>\n",
       "      <th>Obligatory_skills</th>\n",
       "      <th>Optional_skills</th>\n",
       "      <th>technology_name</th>\n",
       "      <th>technology_optional_name</th>\n",
       "    </tr>\n",
       "    <tr>\n",
       "      <th>Group</th>\n",
       "      <th></th>\n",
       "      <th></th>\n",
       "      <th></th>\n",
       "      <th></th>\n",
       "      <th></th>\n",
       "      <th></th>\n",
       "      <th></th>\n",
       "      <th></th>\n",
       "      <th></th>\n",
       "    </tr>\n",
       "  </thead>\n",
       "  <tbody>\n",
       "    <tr>\n",
       "      <th>Javascript</th>\n",
       "      <td>4011</td>\n",
       "      <td>4011</td>\n",
       "      <td>4011</td>\n",
       "      <td>4011</td>\n",
       "      <td>4011</td>\n",
       "      <td>4011</td>\n",
       "      <td>4011</td>\n",
       "      <td>4011</td>\n",
       "      <td>4011</td>\n",
       "    </tr>\n",
       "    <tr>\n",
       "      <th>Java</th>\n",
       "      <td>3176</td>\n",
       "      <td>3176</td>\n",
       "      <td>3176</td>\n",
       "      <td>3176</td>\n",
       "      <td>3176</td>\n",
       "      <td>3176</td>\n",
       "      <td>3176</td>\n",
       "      <td>3176</td>\n",
       "      <td>3176</td>\n",
       "    </tr>\n",
       "    <tr>\n",
       "      <th>Php</th>\n",
       "      <td>2292</td>\n",
       "      <td>2292</td>\n",
       "      <td>2292</td>\n",
       "      <td>2292</td>\n",
       "      <td>2292</td>\n",
       "      <td>2292</td>\n",
       "      <td>2292</td>\n",
       "      <td>2284</td>\n",
       "      <td>2268</td>\n",
       "    </tr>\n",
       "    <tr>\n",
       "      <th>Testing</th>\n",
       "      <td>1516</td>\n",
       "      <td>1516</td>\n",
       "      <td>1516</td>\n",
       "      <td>1516</td>\n",
       "      <td>1516</td>\n",
       "      <td>1516</td>\n",
       "      <td>1516</td>\n",
       "      <td>1516</td>\n",
       "      <td>1516</td>\n",
       "    </tr>\n",
       "    <tr>\n",
       "      <th>Python</th>\n",
       "      <td>1506</td>\n",
       "      <td>1506</td>\n",
       "      <td>1506</td>\n",
       "      <td>1506</td>\n",
       "      <td>1506</td>\n",
       "      <td>1506</td>\n",
       "      <td>1506</td>\n",
       "      <td>1506</td>\n",
       "      <td>1410</td>\n",
       "    </tr>\n",
       "    <tr>\n",
       "      <th>Net</th>\n",
       "      <td>1361</td>\n",
       "      <td>1361</td>\n",
       "      <td>1361</td>\n",
       "      <td>1361</td>\n",
       "      <td>1361</td>\n",
       "      <td>1361</td>\n",
       "      <td>1361</td>\n",
       "      <td>1361</td>\n",
       "      <td>1357</td>\n",
       "    </tr>\n",
       "    <tr>\n",
       "      <th>Devops</th>\n",
       "      <td>1082</td>\n",
       "      <td>1082</td>\n",
       "      <td>1082</td>\n",
       "      <td>1082</td>\n",
       "      <td>1082</td>\n",
       "      <td>1082</td>\n",
       "      <td>1082</td>\n",
       "      <td>1082</td>\n",
       "      <td>1082</td>\n",
       "    </tr>\n",
       "    <tr>\n",
       "      <th>Data</th>\n",
       "      <td>1050</td>\n",
       "      <td>1050</td>\n",
       "      <td>1050</td>\n",
       "      <td>1050</td>\n",
       "      <td>1050</td>\n",
       "      <td>1050</td>\n",
       "      <td>1050</td>\n",
       "      <td>1050</td>\n",
       "      <td>1050</td>\n",
       "    </tr>\n",
       "    <tr>\n",
       "      <th>Mobile</th>\n",
       "      <td>809</td>\n",
       "      <td>809</td>\n",
       "      <td>809</td>\n",
       "      <td>809</td>\n",
       "      <td>809</td>\n",
       "      <td>809</td>\n",
       "      <td>809</td>\n",
       "      <td>809</td>\n",
       "      <td>809</td>\n",
       "    </tr>\n",
       "    <tr>\n",
       "      <th>C</th>\n",
       "      <td>514</td>\n",
       "      <td>514</td>\n",
       "      <td>514</td>\n",
       "      <td>514</td>\n",
       "      <td>514</td>\n",
       "      <td>514</td>\n",
       "      <td>514</td>\n",
       "      <td>514</td>\n",
       "      <td>514</td>\n",
       "    </tr>\n",
       "    <tr>\n",
       "      <th>Admin</th>\n",
       "      <td>479</td>\n",
       "      <td>479</td>\n",
       "      <td>479</td>\n",
       "      <td>479</td>\n",
       "      <td>479</td>\n",
       "      <td>479</td>\n",
       "      <td>479</td>\n",
       "      <td>479</td>\n",
       "      <td>479</td>\n",
       "    </tr>\n",
       "    <tr>\n",
       "      <th>Ruby</th>\n",
       "      <td>434</td>\n",
       "      <td>434</td>\n",
       "      <td>434</td>\n",
       "      <td>434</td>\n",
       "      <td>434</td>\n",
       "      <td>434</td>\n",
       "      <td>434</td>\n",
       "      <td>434</td>\n",
       "      <td>434</td>\n",
       "    </tr>\n",
       "    <tr>\n",
       "      <th>Other</th>\n",
       "      <td>391</td>\n",
       "      <td>391</td>\n",
       "      <td>391</td>\n",
       "      <td>391</td>\n",
       "      <td>391</td>\n",
       "      <td>391</td>\n",
       "      <td>391</td>\n",
       "      <td>391</td>\n",
       "      <td>391</td>\n",
       "    </tr>\n",
       "    <tr>\n",
       "      <th>Pm</th>\n",
       "      <td>386</td>\n",
       "      <td>386</td>\n",
       "      <td>386</td>\n",
       "      <td>386</td>\n",
       "      <td>386</td>\n",
       "      <td>386</td>\n",
       "      <td>386</td>\n",
       "      <td>384</td>\n",
       "      <td>386</td>\n",
       "    </tr>\n",
       "    <tr>\n",
       "      <th>Analytics</th>\n",
       "      <td>351</td>\n",
       "      <td>351</td>\n",
       "      <td>351</td>\n",
       "      <td>351</td>\n",
       "      <td>351</td>\n",
       "      <td>351</td>\n",
       "      <td>351</td>\n",
       "      <td>351</td>\n",
       "      <td>351</td>\n",
       "    </tr>\n",
       "    <tr>\n",
       "      <th>Support</th>\n",
       "      <td>302</td>\n",
       "      <td>302</td>\n",
       "      <td>302</td>\n",
       "      <td>302</td>\n",
       "      <td>302</td>\n",
       "      <td>302</td>\n",
       "      <td>302</td>\n",
       "      <td>302</td>\n",
       "      <td>302</td>\n",
       "    </tr>\n",
       "    <tr>\n",
       "      <th>Architecture</th>\n",
       "      <td>278</td>\n",
       "      <td>278</td>\n",
       "      <td>278</td>\n",
       "      <td>278</td>\n",
       "      <td>278</td>\n",
       "      <td>278</td>\n",
       "      <td>278</td>\n",
       "      <td>278</td>\n",
       "      <td>278</td>\n",
       "    </tr>\n",
       "    <tr>\n",
       "      <th>Html</th>\n",
       "      <td>250</td>\n",
       "      <td>250</td>\n",
       "      <td>250</td>\n",
       "      <td>250</td>\n",
       "      <td>250</td>\n",
       "      <td>250</td>\n",
       "      <td>250</td>\n",
       "      <td>250</td>\n",
       "      <td>250</td>\n",
       "    </tr>\n",
       "    <tr>\n",
       "      <th>Erp</th>\n",
       "      <td>246</td>\n",
       "      <td>246</td>\n",
       "      <td>246</td>\n",
       "      <td>246</td>\n",
       "      <td>246</td>\n",
       "      <td>246</td>\n",
       "      <td>246</td>\n",
       "      <td>246</td>\n",
       "      <td>246</td>\n",
       "    </tr>\n",
       "    <tr>\n",
       "      <th>Go</th>\n",
       "      <td>225</td>\n",
       "      <td>225</td>\n",
       "      <td>225</td>\n",
       "      <td>225</td>\n",
       "      <td>225</td>\n",
       "      <td>225</td>\n",
       "      <td>225</td>\n",
       "      <td>225</td>\n",
       "      <td>225</td>\n",
       "    </tr>\n",
       "    <tr>\n",
       "      <th>Ux</th>\n",
       "      <td>168</td>\n",
       "      <td>168</td>\n",
       "      <td>168</td>\n",
       "      <td>168</td>\n",
       "      <td>168</td>\n",
       "      <td>168</td>\n",
       "      <td>168</td>\n",
       "      <td>168</td>\n",
       "      <td>168</td>\n",
       "    </tr>\n",
       "    <tr>\n",
       "      <th>Security</th>\n",
       "      <td>138</td>\n",
       "      <td>138</td>\n",
       "      <td>138</td>\n",
       "      <td>138</td>\n",
       "      <td>138</td>\n",
       "      <td>138</td>\n",
       "      <td>138</td>\n",
       "      <td>138</td>\n",
       "      <td>138</td>\n",
       "    </tr>\n",
       "    <tr>\n",
       "      <th>Scala</th>\n",
       "      <td>72</td>\n",
       "      <td>72</td>\n",
       "      <td>72</td>\n",
       "      <td>72</td>\n",
       "      <td>72</td>\n",
       "      <td>72</td>\n",
       "      <td>72</td>\n",
       "      <td>72</td>\n",
       "      <td>72</td>\n",
       "    </tr>\n",
       "    <tr>\n",
       "      <th>Game</th>\n",
       "      <td>70</td>\n",
       "      <td>70</td>\n",
       "      <td>70</td>\n",
       "      <td>70</td>\n",
       "      <td>70</td>\n",
       "      <td>70</td>\n",
       "      <td>70</td>\n",
       "      <td>70</td>\n",
       "      <td>70</td>\n",
       "    </tr>\n",
       "  </tbody>\n",
       "</table>\n",
       "</div>"
      ],
      "text/plain": [
       "              Seniority  Position  Location  Salary_b2b  Salary_permanent  Obligatory_skills  Optional_skills  technology_name  technology_optional_name\n",
       "Group                                                                                                                                                   \n",
       "Javascript         4011      4011      4011        4011              4011               4011             4011             4011                      4011\n",
       "Java               3176      3176      3176        3176              3176               3176             3176             3176                      3176\n",
       "Php                2292      2292      2292        2292              2292               2292             2292             2284                      2268\n",
       "Testing            1516      1516      1516        1516              1516               1516             1516             1516                      1516\n",
       "Python             1506      1506      1506        1506              1506               1506             1506             1506                      1410\n",
       "Net                1361      1361      1361        1361              1361               1361             1361             1361                      1357\n",
       "Devops             1082      1082      1082        1082              1082               1082             1082             1082                      1082\n",
       "Data               1050      1050      1050        1050              1050               1050             1050             1050                      1050\n",
       "Mobile              809       809       809         809               809                809              809              809                       809\n",
       "C                   514       514       514         514               514                514              514              514                       514\n",
       "Admin               479       479       479         479               479                479              479              479                       479\n",
       "Ruby                434       434       434         434               434                434              434              434                       434\n",
       "Other               391       391       391         391               391                391              391              391                       391\n",
       "Pm                  386       386       386         386               386                386              386              384                       386\n",
       "Analytics           351       351       351         351               351                351              351              351                       351\n",
       "Support             302       302       302         302               302                302              302              302                       302\n",
       "Architecture        278       278       278         278               278                278              278              278                       278\n",
       "Html                250       250       250         250               250                250              250              250                       250\n",
       "Erp                 246       246       246         246               246                246              246              246                       246\n",
       "Go                  225       225       225         225               225                225              225              225                       225\n",
       "Ux                  168       168       168         168               168                168              168              168                       168\n",
       "Security            138       138       138         138               138                138              138              138                       138\n",
       "Scala                72        72        72          72                72                 72               72               72                        72\n",
       "Game                 70        70        70          70                70                 70               70               70                        70"
      ]
     },
     "execution_count": 44,
     "metadata": {},
     "output_type": "execute_result"
    }
   ],
   "source": [
    "df_technology_group"
   ]
  },
  {
   "cell_type": "markdown",
   "metadata": {},
   "source": [
    "###### Policzenie wszystkich grup technologicznych"
   ]
  },
  {
   "cell_type": "code",
   "execution_count": 45,
   "metadata": {},
   "outputs": [
    {
     "data": {
      "text/plain": [
       "24"
      ]
     },
     "execution_count": 45,
     "metadata": {},
     "output_type": "execute_result"
    }
   ],
   "source": [
    "len(df_technology_group)"
   ]
  },
  {
   "cell_type": "markdown",
   "metadata": {},
   "source": [
    "###### Stworzenie wykresu kołowego dla grup technologicznych oraz wyswietlenie wartosici procentowych udziału wszytskich ogłoszeń"
   ]
  },
  {
   "cell_type": "code",
   "execution_count": 46,
   "metadata": {},
   "outputs": [
    {
     "data": {
      "text/plain": [
       "<AxesSubplot:title={'center':'Technology Group'}, ylabel='Seniority'>"
      ]
     },
     "execution_count": 46,
     "metadata": {},
     "output_type": "execute_result"
    },
    {
     "data": {
      "image/png": "[encoded data removed]",
      "text/plain": [
       "<Figure size 1800x1080 with 1 Axes>"
      ]
     },
     "metadata": {},
     "output_type": "display_data"
    }
   ],
   "source": [
    "df_technology_group.plot(x='Group', y='Seniority', kind='pie', fontsize=14, figsize=(25,15), title='Technology Group', legend=False, autopct='%1.1f%%')"
   ]
  },
  {
   "cell_type": "markdown",
   "metadata": {},
   "source": [
    "###### Wyświetlenie danych kolumny \"Seniority\""
   ]
  },
  {
   "cell_type": "code",
   "execution_count": 47,
   "metadata": {},
   "outputs": [
    {
     "data": {
      "text/plain": [
       "2       Senior\n",
       "2       Senior\n",
       "2       Senior\n",
       "2       Senior\n",
       "2       Senior\n",
       "         ...  \n",
       "5503    Junior\n",
       "5503    Junior\n",
       "5505    Junior\n",
       "5505    Junior\n",
       "5505    Junior\n",
       "Name: Seniority, Length: 21107, dtype: object"
      ]
     },
     "execution_count": 47,
     "metadata": {},
     "output_type": "execute_result"
    }
   ],
   "source": [
    "df['Seniority']"
   ]
  },
  {
   "cell_type": "markdown",
   "metadata": {},
   "source": [
    "###### Tworzenie ramki danych po zgrupowaniu kolumny 'Seniority' i policzeniu wystapień danych nazw"
   ]
  },
  {
   "cell_type": "code",
   "execution_count": 48,
   "metadata": {},
   "outputs": [],
   "source": [
    "df_seniority = df.groupby('Seniority').count().sort_values('Position',ascending=False).reset_index()[['Seniority', 'Position']]"
   ]
  },
  {
   "cell_type": "markdown",
   "metadata": {},
   "source": [
    "###### Wyswietlenie danych nowej ramki"
   ]
  },
  {
   "cell_type": "code",
   "execution_count": 49,
   "metadata": {},
   "outputs": [
    {
     "data": {
      "text/html": [
       "<div>\n",
       "<style scoped>\n",
       "    .dataframe tbody tr th:only-of-type {\n",
       "        vertical-align: middle;\n",
       "    }\n",
       "\n",
       "    .dataframe tbody tr th {\n",
       "        vertical-align: top;\n",
       "    }\n",
       "\n",
       "    .dataframe thead th {\n",
       "        text-align: right;\n",
       "    }\n",
       "</style>\n",
       "<table border=\"1\" class=\"dataframe\">\n",
       "  <thead>\n",
       "    <tr style=\"text-align: right;\">\n",
       "      <th></th>\n",
       "      <th>Seniority</th>\n",
       "      <th>Position</th>\n",
       "    </tr>\n",
       "  </thead>\n",
       "  <tbody>\n",
       "    <tr>\n",
       "      <th>0</th>\n",
       "      <td>Mid</td>\n",
       "      <td>11568</td>\n",
       "    </tr>\n",
       "    <tr>\n",
       "      <th>1</th>\n",
       "      <td>Senior</td>\n",
       "      <td>6794</td>\n",
       "    </tr>\n",
       "    <tr>\n",
       "      <th>2</th>\n",
       "      <td>Junior</td>\n",
       "      <td>2745</td>\n",
       "    </tr>\n",
       "  </tbody>\n",
       "</table>\n",
       "</div>"
      ],
      "text/plain": [
       "  Seniority  Position\n",
       "0       Mid     11568\n",
       "1    Senior      6794\n",
       "2    Junior      2745"
      ]
     },
     "execution_count": 49,
     "metadata": {},
     "output_type": "execute_result"
    }
   ],
   "source": [
    "df_seniority"
   ]
  },
  {
   "cell_type": "markdown",
   "metadata": {},
   "source": [
    "###### Stworzenie wykresu kołowego dla poziomu zaawansowania oraz wyswietlenie wartości procentowych udziału wszytskich ogłoszeń"
   ]
  },
  {
   "cell_type": "code",
   "execution_count": 50,
   "metadata": {},
   "outputs": [
    {
     "data": {
      "text/plain": [
       "<AxesSubplot:title={'center':'Seniority'}, ylabel='Position'>"
      ]
     },
     "execution_count": 50,
     "metadata": {},
     "output_type": "execute_result"
    },
    {
     "data": {
      "image/png": "[encoded data removed]",
      "text/plain": [
       "<Figure size 1800x1080 with 1 Axes>"
      ]
     },
     "metadata": {},
     "output_type": "display_data"
    }
   ],
   "source": [
    "df_seniority.plot(x='Seniority', y='Position', kind='pie', fontsize=14, figsize=(25,15), title='Seniority', legend=False, labels=df_seniority['Seniority'].to_list(), autopct='%1.1f%%')"
   ]
  }
 ],
 "metadata": {
  "kernelspec": {
   "display_name": "Python 3 (ipykernel)",
   "language": "python",
   "name": "python3"
  },
  "language_info": {
   "codemirror_mode": {
    "name": "ipython",
    "version": 3
   },
   "file_extension": ".py",
   "mimetype": "text/x-python",
   "name": "python",
   "nbconvert_exporter": "python",
   "pygments_lexer": "ipython3",
   "version": "3.9.10"
  }
 },
 "nbformat": 4,
 "nbformat_minor": 1
}